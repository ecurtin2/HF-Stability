{
 "cells": [
  {
   "cell_type": "code",
   "execution_count": 51,
   "metadata": {
    "collapsed": false,
    "scrolled": false
   },
   "outputs": [],
   "source": [
    "def cpp_head_to_pyxhead(cpp_head, breaker=None):\n",
    "    f = cpp_head + '.h'\n",
    "    with open(f) as fyle:\n",
    "        content = fyle.readlines()\n",
    "\n",
    "    newlines = []\n",
    "    public = False\n",
    "    for line in content:\n",
    "        if not line.lstrip().startswith('#'):\n",
    "            line = line.lstrip().rstrip() # remove leading & trailing whitespace\n",
    "            line = line.strip(\";\")           # remove end of line semicolon\n",
    "            line = line.replace(\"//\", \"#\")   # comments\n",
    "            line = line.replace(\"arma::\", \"\")\n",
    "            line = line.replace(\":\", \"\")\n",
    "            line = line.replace(\"uint64_t\", \"long long unsigned int\")\n",
    "            line = line.replace(\"uword\", \"long long unsigned int\")\n",
    "            if breaker in line:\n",
    "                break\n",
    "            words = line.split()\n",
    "            if words:\n",
    "                if words[0] == 'namespace':\n",
    "                    my_ns = words[1]\n",
    "                elif words[0] == 'class':\n",
    "                    my_class = words[1]\n",
    "                elif words[0] == 'public':\n",
    "                    public = True\n",
    "                elif words[0] == 'private':\n",
    "                    public = False\n",
    "                else:\n",
    "                    if public and words[0] != '}':\n",
    "                        newlines.append(line)\n",
    "    line1 = 'cdef extern from \"' + f + '\"'\n",
    "    if my_ns:\n",
    "        line1 += (' namespace \"' + my_ns + '\"')\n",
    "    line1 += ':'\n",
    "    tab = '    ' # tab users rekt\n",
    "    indentlevel = 1\n",
    "\n",
    "    line2 = ''\n",
    "    if my_class:\n",
    "        line2 += tab + 'cdef cppclass ' + my_class + ':'\n",
    "        indentlevel = 2\n",
    "\n",
    "    newlines = [indentlevel*tab + i for i in newlines]\n",
    "\n",
    "    comment = '#This file was automatically generated from ' + f + 'using cpp_header_to_pyxheader!'\n",
    "    newlines.insert(0, line2)\n",
    "    newlines.insert(0, line1)\n",
    "    newlines.insert(0, comment)\n",
    "    outfile = open(cpp_head + \"_h.pyx\", 'w')\n",
    "    for line in newlines:\n",
    "        outfile.write(\"%s\\n\" % line)\n",
    "    outfile.close()"
   ]
  },
  {
   "cell_type": "code",
   "execution_count": 54,
   "metadata": {
    "collapsed": false
   },
   "outputs": [],
   "source": [
    "cpp_head_to_pyxhead('stability', breaker='davidson')"
   ]
  },
  {
   "cell_type": "code",
   "execution_count": null,
   "metadata": {
    "collapsed": true
   },
   "outputs": [],
   "source": []
  }
 ],
 "metadata": {
  "kernelspec": {
   "display_name": "Python [Root]",
   "language": "python",
   "name": "Python [Root]"
  },
  "language_info": {
   "codemirror_mode": {
    "name": "ipython",
    "version": 2
   },
   "file_extension": ".py",
   "mimetype": "text/x-python",
   "name": "python",
   "nbconvert_exporter": "python",
   "pygments_lexer": "ipython2",
   "version": "2.7.12"
  }
 },
 "nbformat": 4,
 "nbformat_minor": 0
}

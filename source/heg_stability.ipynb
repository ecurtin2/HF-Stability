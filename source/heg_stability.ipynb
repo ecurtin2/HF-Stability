{
 "cells": [
  {
   "cell_type": "code",
   "execution_count": 1,
   "metadata": {
    "collapsed": false
   },
   "outputs": [
    {
     "ename": "ImportError",
     "evalue": "No module named numpy",
     "output_type": "error",
     "traceback": [
      "\u001b[1;31m---------------------------------------------------------------------------\u001b[0m",
      "\u001b[1;31mImportError\u001b[0m                               Traceback (most recent call last)",
      "\u001b[1;32m<ipython-input-1-09d79aae9931>\u001b[0m in \u001b[0;36m<module>\u001b[1;34m()\u001b[0m\n\u001b[0;32m      1\u001b[0m \u001b[1;31m#!usr/bin/python\u001b[0m\u001b[1;33m\u001b[0m\u001b[1;33m\u001b[0m\u001b[0m\n\u001b[1;32m----> 2\u001b[1;33m \u001b[1;32mimport\u001b[0m \u001b[0mnumpy\u001b[0m \u001b[1;32mas\u001b[0m \u001b[0mnp\u001b[0m\u001b[1;33m\u001b[0m\u001b[0m\n\u001b[0m\u001b[0;32m      3\u001b[0m \u001b[1;32mimport\u001b[0m \u001b[0mHFStability\u001b[0m\u001b[1;33m\u001b[0m\u001b[0m\n\u001b[0;32m      4\u001b[0m \u001b[1;32mimport\u001b[0m \u001b[0mmatplotlib\u001b[0m\u001b[1;33m.\u001b[0m\u001b[0mpyplot\u001b[0m \u001b[1;32mas\u001b[0m \u001b[0mplt\u001b[0m\u001b[1;33m\u001b[0m\u001b[0m\n\u001b[0;32m      5\u001b[0m \u001b[1;33m\u001b[0m\u001b[0m\n",
      "\u001b[1;31mImportError\u001b[0m: No module named numpy"
     ]
    }
   ],
   "source": [
    "#!usr/bin/python\n",
    "import numpy as np\n",
    "import HFStability\n",
    "import matplotlib.pyplot as plt\n",
    "\n",
    "#Each run is an instance of PyHEG\n",
    "run = HFStability.PyHEG(rs=3.0, ndim=3, Nk=10)"
   ]
  },
  {
   "cell_type": "markdown",
   "metadata": {},
   "source": [
    "## Analytic Energies for the continuous case\n",
    "---\n",
    "\n",
    "Let $y = \\frac{k}{k_{F\\sigma}}$. In 2 or 3 dimensions the exchange energy is, \n",
    "\n",
    "$$\\epsilon_{k\\sigma}^{(x)} = -\\frac{2e^2k_{F\\sigma}}{\\pi}f_{ND}\\left(\\frac{k}{k_{F\\sigma}}\\right),$$\n",
    "where in 3D, the function $f_{3D}$ is given by\n",
    "$$f_{3D}\\left(y\\right) = \\frac{1}{2} + \\frac{1-y^2}{4y} ln \\left|\\frac{1+y}{1-y} \\right|,$$\n",
    "\n",
    "and in 2D, it is\n",
    "$$f_{2D} \\left( y \\right) = \n",
    "\\begin{cases} \n",
    "    \\mathbf{E}\\left(y\\right), &  y \\leq 1, \\\\\n",
    "    y \n",
    "    \\left[ \n",
    "        \\mathbf{E} \n",
    "        \\left(\n",
    "            \\frac{1}{y} \n",
    "        \\right)\n",
    "        -\n",
    "        \\left(\n",
    "            1 - \\frac{1}{y^2}\n",
    "        \\right)\n",
    "        \\mathbf{K}\n",
    "        \\left(\n",
    "            \\frac{1}{y}\n",
    "        \\right)\n",
    "       \\right]  ,& y \\geq 1. \n",
    "\\end{cases}\n",
    "$$\n",
    "\n",
    "\n",
    "The functions $\\mathbf{K}(y)$ and $ \\mathbf{E}(y) $ are complete elliptic integrals of the [first](http://mathworld.wolfram.com/CompleteEllipticIntegraloftheFirstKind.html)  and [second](http://mathworld.wolfram.com/CompleteEllipticIntegraloftheSecondKind.html) kind, respectively. These are implemented in SciPy as \n",
    "[scipy.special.ellipk](http://docs.scipy.org/doc/scipy-0.17.1/reference/generated/scipy.special.ellipk.html#scipy.special.ellipk)\n",
    "and \n",
    "[scipy.special.ellipe](http://docs.scipy.org/doc/scipy-0.17.1/reference/generated/scipy.special.ellipe.html#scipy.special.ellipe).\n",
    "After a significant struggle, I have found that the author of the textbook and scipy/wolfram use a different definition of the complete elliptic integral. I was able to reproduce the graph properly with $\\mathbf{K}(x) \\rightarrow \\mathbf{K}(x^2)$ and $\\mathbf{E}(x) \\rightarrow \\mathbf{E}(x^2)$. I wouldn't have found this if it weren't for the generous soul who created [this pdf](http://www.mhtlab.uwaterloo.ca/courses/me755/web_chap3.pdf)"
   ]
  },
  {
   "cell_type": "markdown",
   "metadata": {},
   "source": [
    "## Reproducing figures 2.1 and 2.2 from pages 82, 83 of Guiliani & Vignale, Quantum Theory of the Electron Liquid (2005)\n"
   ]
  },
  {
   "cell_type": "code",
   "execution_count": null,
   "metadata": {
    "collapsed": false
   },
   "outputs": [],
   "source": [
    "%matplotlib inline\n",
    "import matplotlib.image as mpimg\n",
    "from matplotlib.ticker import AutoMinorLocator\n",
    "fig, axes = plt.subplots(2,2,figsize=(7,7))\n",
    "\n",
    "#3D plot\n",
    "run.ndim = 3\n",
    "run.rs = 4.0\n",
    "run.kf = (9 * np.pi / 4)**(1./3.) * (1 / run.rs) \n",
    "fermi_energy = 0.5 * run.kf**2\n",
    "x = np.linspace(0, 2.0 * run.kf, 500)\n",
    "energy_x = np.array([run.analytic_energy(i) for i in x]) / fermi_energy\n",
    "kinetic_x = np.array([0.5 * i**2 for i in x]) / fermi_energy\n",
    "exch_x = np.array([run.analytic_exch(i) for i in x]) / fermi_energy\n",
    "x = x / run.kf  #rescale for plot\n",
    "axes[0,0].plot(x, energy_x, 'k-' , label='total energy')\n",
    "axes[0,0].plot(x, kinetic_x, 'k:', label='kinetic energy')\n",
    "axes[0,0].plot(x, exch_x, 'k--', label='exchange energy')\n",
    "axes[0,0].set_title('3D, rs = 4')\n",
    "axes[0,0].set_xlabel(r'$\\frac{k}{k_f}$')\n",
    "axes[0,0].set_ylabel(r'$\\frac{\\epsilon_k^{HF}}{\\epsilon_F}$')\n",
    "axes[0,0].set_xlim(0,2)\n",
    "axes[0,0].set_ylim(-4.0,3.0)\n",
    "\n",
    "#add minor ticks\n",
    "minor_locator = AutoMinorLocator(5)\n",
    "axes[0,0].yaxis.set_minor_locator(minor_locator)\n",
    "plt.grid(which='minor')\n",
    "minor_locator = AutoMinorLocator(5)\n",
    "axes[0,0].xaxis.set_minor_locator(minor_locator)\n",
    "plt.grid(which='minor')\n",
    "\n",
    "#2D plot\n",
    "run.ndim = 2\n",
    "run.rs = 1.0\n",
    "run.kf = 2**0.5 / run.rs\n",
    "fermi_energy = 0.5 * run.kf**2\n",
    "x = np.linspace(0, 2.0 * run.kf, 500)\n",
    "energy_x = np.array([run.analytic_energy(i) for i in x]) / fermi_energy\n",
    "kinetic_x = np.array([0.5 * i**2 for i in x]) / fermi_energy\n",
    "exch_x = np.array([run.analytic_exch(i) for i in x]) / fermi_energy\n",
    "x = x / run.kf  #rescale for plot\n",
    "\n",
    "axes[1,0].plot(x, energy_x, 'k-' , label='total energy')\n",
    "axes[1,0].plot(x, kinetic_x, 'k:', label='kinetic energy')\n",
    "axes[1,0].plot(x, exch_x, 'k--', label='exchange energy')\n",
    "axes[1,0].set_title('2D, rs = 1')\n",
    "axes[1,0].set_xlabel(r'$\\frac{k}{k_f}$')\n",
    "axes[1,0].set_ylabel(r'$\\frac{\\epsilon_k^{HF}}{\\epsilon_F}$')\n",
    "axes[1,0].set_xlim(0,2)\n",
    "axes[1,0].set_ylim(-2.5,3)\n",
    "\n",
    "#add minor ticks\n",
    "minor_locator = AutoMinorLocator(5)\n",
    "axes[1,0].yaxis.set_minor_locator(minor_locator)\n",
    "plt.grid(which='minor')\n",
    "minor_locator = AutoMinorLocator(5)\n",
    "axes[1,0].xaxis.set_minor_locator(minor_locator)\n",
    "plt.grid(which='minor')\n",
    "\n",
    "#3D Figure\n",
    "image = mpimg.imread(\"HF_singleparticleenergy_3D_Guiliani2005_fig2.1_cropped.png\")\n",
    "ntix = 5\n",
    "xlabels = np.linspace(0,2,ntix)\n",
    "xtix = np.linspace(0, image.shape[0], ntix)\n",
    "ntix = 8\n",
    "ytix = np.linspace(0, image.shape[1], ntix)\n",
    "ylabels = np.linspace(-4,3,ntix)\n",
    "axes[0,1].axis('on')\n",
    "axes[0,1].imshow(image[::-1,:,:])\n",
    "axes[0,1].set_xticks(xtix,minor=False)\n",
    "axes[0,1].set_xticklabels(xlabels)\n",
    "axes[0,1].set_xlim(0,image.shape[0])\n",
    "axes[0,1].set_yticks(ytix)\n",
    "axes[0,1].set_yticklabels(ylabels)\n",
    "axes[0,1].set_ylim(0,image.shape[1])\n",
    "axes[0,1].tick_params(top='off', bottom='off', left='off', right='off')\n",
    "axes[0,1].set_xlabel(r'$\\frac{k}{k_f}$')\n",
    "axes[0,1].set_ylabel(r'$\\frac{\\epsilon_k^{HF}}{\\epsilon_F}$')\n",
    "\n",
    "\n",
    "#2D Figure\n",
    "image = mpimg.imread(\"HF_singleparticleenergy_2D_Guiliani2005_fig2.2_cropped.png\")\n",
    "ntix = 5\n",
    "xlabels = np.linspace(0,2,ntix)\n",
    "xtix = np.linspace(0, image.shape[0], ntix)\n",
    "ntix = 12\n",
    "ytix = np.linspace(0, image.shape[1], ntix)\n",
    "ylabels = np.linspace(-2.5,3,ntix)\n",
    "axes[1,1].axis('on')\n",
    "axes[1,1].imshow(image[::-1,:,:])\n",
    "axes[1,1].set_xticks(xtix,minor=False)\n",
    "axes[1,1].set_xticklabels(xlabels)\n",
    "axes[1,1].set_xlim(0,image.shape[0])\n",
    "axes[1,1].set_yticks(ytix)\n",
    "axes[1,1].set_yticklabels(ylabels)\n",
    "axes[1,1].set_ylim(0,image.shape[1])\n",
    "axes[1,1].tick_params(top='off', bottom='off', left='off', right='off')\n",
    "axes[1,1].set_xlabel(r'$\\frac{k}{k_f}$')\n",
    "axes[1,1].set_ylabel(r'$\\frac{\\epsilon_k^{HF}}{\\epsilon_F}$')\n",
    "\n",
    "plt.tight_layout()\n",
    "plt.show()"
   ]
  },
  {
   "cell_type": "code",
   "execution_count": null,
   "metadata": {
    "collapsed": false
   },
   "outputs": [],
   "source": []
  },
  {
   "cell_type": "code",
   "execution_count": null,
   "metadata": {
    "collapsed": false
   },
   "outputs": [],
   "source": []
  },
  {
   "cell_type": "code",
   "execution_count": null,
   "metadata": {
    "collapsed": true
   },
   "outputs": [],
   "source": []
  }
 ],
 "metadata": {
  "kernelspec": {
   "display_name": "Python [Root]",
   "language": "python",
   "name": "Python [Root]"
  },
  "language_info": {
   "codemirror_mode": {
    "name": "ipython",
    "version": 2
   },
   "file_extension": ".py",
   "mimetype": "text/x-python",
   "name": "python",
   "nbconvert_exporter": "python",
   "pygments_lexer": "ipython2",
   "version": "2.7.12"
  }
 },
 "nbformat": 4,
 "nbformat_minor": 0
}

{
 "cells": [
  {
   "cell_type": "code",
   "execution_count": 1,
   "metadata": {
    "collapsed": false
   },
   "outputs": [],
   "source": [
    "#!usr/bin/python\n",
    "import math\n",
    "import numpy as np\n",
    "from scipy import special as sp\n",
    "import itertools\n",
    "import HFStability\n",
    "import matplotlib.pyplot as plt\n",
    "\n",
    "#Each run is an instance of PyHEG\n",
    "run = HFStability.PyHEG()\n",
    "\n",
    "#input params\n",
    "run.rs = 4.0\n",
    "run.ndim = 3\n",
    "run.Nk = 10\n",
    "\n",
    "#Determine other parameters\n",
    "if run.ndim == 1:\n",
    "    run.kf = np.pi / (4 *run.rs)\n",
    "elif run.ndim == 2:\n",
    "    run.kf = 2**0.5 /run.rs\n",
    "elif run.ndim == 3:\n",
    "    run.kf = (9 * np.pi / 4)**(1./3.) * (1 / run.rs) \n",
    "\n",
    "kmax = 2.0 * run.kf\n",
    "kgrid = np.linspace(-kmax, kmax, run.Nk)\n",
    "run.bzone_length =  np.pi / kmax\n",
    "run.vol = run.bzone_length**(run.ndim)\n",
    "\n",
    "temp = range(run.Nk)\n",
    "states = temp\n",
    "for i in range(run.ndim - 1):\n",
    "    states = itertools.product(states,temp)\n",
    "states = list(states)\n",
    "\n",
    "#unpack into list of tuples\n",
    "if run.ndim == 3:\n",
    "    states = [(item[0][0], item [0][1], item[1]) for item in states]\n",
    "\n",
    "if run.ndim == 1:\n",
    "    states = [[kgrid[state]] for state in states]\n",
    "else:\n",
    "    states = [[kgrid[i] for i in state] for state in states]\n",
    "\n",
    "occ_states = []\n",
    "vir_states = []\n",
    "for index, state in enumerate(states):\n",
    "    k = np.linalg.norm(state)\n",
    "    if k < run.kf + 10e-4:\n",
    "        occ_states.append(index)\n",
    "    else:\n",
    "        vir_states.append(index)\n",
    "\n",
    "run.Nocc = len(occ_states)\n",
    "run.Nvir = len(vir_states)\n",
    "run.states = np.asarray(states)\n",
    "run.occ_states = np.asarray(occ_states, dtype=np.uint32)\n",
    "run.vir_states = np.asarray(vir_states, dtype=np.uint32)\n",
    "\n",
    "#RHF ONLY\n",
    "run.N_elec = 2*run.Nocc"
   ]
  },
  {
   "cell_type": "markdown",
   "metadata": {},
   "source": [
    "## Analytic Energies for the continuous case\n",
    "---\n",
    "\n",
    "Let $y = \\frac{k}{k_{F\\sigma}}$. In 2 or 3 dimensions the exchange energy is, \n",
    "\n",
    "$$\\epsilon_{k\\sigma}^{(x)} = -\\frac{2e^2k_{F\\sigma}}{\\pi}f_{ND}\\left(\\frac{k}{k_{F\\sigma}}\\right),$$\n",
    "where in 3D, the function $f_{3D}$ is given by\n",
    "$$f_{3D}\\left(y\\right) = \\frac{1}{2} + \\frac{1-y^2}{4y} ln \\left|\\frac{1+y}{1-y} \\right|,$$\n",
    "\n",
    "and in 2D, it is\n",
    "$$f_{2D}\\left(y\\right) = \n",
    "\\begin{cases} \n",
    "    \\mathbf{E}\\left(y\\right), &  y \\leq 1, \\\\\n",
    "    y \n",
    "    \\left[ \n",
    "        \\mathbf{E} \n",
    "        \\left(\n",
    "            \\frac{1}{y} \n",
    "        \\right)\n",
    "        -\n",
    "        \\left(\n",
    "            1 - \\frac{1}{y^2}\n",
    "        \\right)\n",
    "        \\mathbf{K}\n",
    "        \\left(\n",
    "            \\frac{1}{y}\n",
    "        \\right)\n",
    "       \\right]  ,& y \\geq 1. \n",
    "\\end{cases}\n",
    "$$\n",
    "\n",
    "The functions $\\mathbf{K}(y)$ and $ \\mathbf{E}(y) $ are complete elliptic integrals of the [first](http://mathworld.wolfram.com/CompleteEllipticIntegraloftheFirstKind.html)  and [second](http://mathworld.wolfram.com/CompleteEllipticIntegraloftheSecondKind.html) kind, respectively. These are implemented in SciPy as \n",
    "[scipy.special.ellipk](http://docs.scipy.org/doc/scipy-0.17.1/reference/generated/scipy.special.ellipk.html#scipy.special.ellipk)\n",
    "and \n",
    "[scipy.special.ellipe](http://docs.scipy.org/doc/scipy-0.17.1/reference/generated/scipy.special.ellipe.html#scipy.special.ellipe).\n",
    "After a significant struggle, I have found that the author of the textbook and scipy/wolfram use a different definition of the complete elliptic integral? I was able to reproduce the graph properly with $\\mathbf{K}(x) \\rightarrow \\mathbf{K}(x^2)$. I wouldn't have found this if it weren't for the generous soul who created [this pdf](http://www.mhtlab.uwaterloo.ca/courses/me755/web_chap3.pdf)"
   ]
  },
  {
   "cell_type": "code",
   "execution_count": 2,
   "metadata": {
    "collapsed": false
   },
   "outputs": [],
   "source": [
    "def f2D(y):\n",
    "    if y <= 1.0:\n",
    "        #this looks to be working\n",
    "        return sp.ellipe(y)\n",
    "    else:\n",
    "        #this is not\n",
    "        x = 1.0 / y\n",
    "        return y * (sp.ellipe(x) - (1.0-x**2)*sp.ellipk(x*x))\n",
    "\n",
    "def f3D(y):\n",
    "    if y < 10e-10:\n",
    "        return 1.0\n",
    "    return 0.5 + (1 - y*y) / (4*y) * math.log(abs((1+y) / (1-y)))\n",
    "    \n",
    "def exch(k):\n",
    "    const = -2. * run.kf / math.pi\n",
    "    if run.ndim == 2:\n",
    "        return const * f2D(k/run.kf)\n",
    "    elif run.ndim == 3:\n",
    "        return const * f3D(k/run.kf)\n",
    "\n",
    "def energy(k):\n",
    "    #works on k of any dimension\n",
    "    k = np.linalg.norm(k)\n",
    "    return (k*k / 2.0) + exch(k)"
   ]
  },
  {
   "cell_type": "markdown",
   "metadata": {},
   "source": [
    "## Reproducing figures 2.1 and 2.2 from pages 82, 83 of Guiliani & Vignale, Quantum Theory of the Electron Liquid (2005)\n"
   ]
  },
  {
   "cell_type": "code",
   "execution_count": 3,
   "metadata": {
    "collapsed": false
   },
   "outputs": [
    {
     "name": "stdout",
     "output_type": "stream",
     "text": [
      "0.479789573169\n",
      "1.41421356237\n"
     ]
    }
   ],
   "source": [
    "#%matplotlib inline\n",
    "import matplotlib.image as mpimg\n",
    "fig, axes = plt.subplots(2,2,figsize=(7,7))\n",
    "\n",
    "#3D plot\n",
    "run.ndim = 3\n",
    "run.rs = 4.0\n",
    "run.kf = (9 * np.pi / 4)**(1./3.) * (1 / run.rs) \n",
    "fermi_energy = 0.5 * run.kf**2\n",
    "x = np.linspace(0, 2.0 * run.kf, 500)\n",
    "energy_x = np.array([energy(i) for i in x]) / fermi_energy\n",
    "kinetic_x = np.array([0.5 * i**2 for i in x]) / fermi_energy\n",
    "exch_x = np.array([exch(i) for i in x]) / fermi_energy\n",
    "x = x / run.kf  #rescale for plot\n",
    "axes[0,0].plot(x, energy_x, 'k-' , label='total energy')\n",
    "axes[0,0].plot(x, kinetic_x, 'k:', label='kinetic energy')\n",
    "axes[0,0].plot(x, exch_x, 'k--', label='exhange energy')\n",
    "axes[0,0].set_title('3D, rs = 4')\n",
    "axes[0,0].set_xlabel(r'$\\frac{k}{k_f}$')\n",
    "axes[0,0].set_ylabel(r'$\\frac{\\epsilon_k^{HF}}{\\epsilon_F}$')\n",
    "axes[0,0].set_xlim(0,2)\n",
    "axes[0,0].set_ylim(-4,3)\n",
    "print run.kf\n",
    "\n",
    "#2D plot\n",
    "run.ndim = 2\n",
    "run.rs = 1.0\n",
    "run.kf = 2**0.5 / run.rs\n",
    "print run.kf\n",
    "fermi_energy = 0.5 * run.kf**2\n",
    "x = np.linspace(0, 2.0 * run.kf, 500)\n",
    "energy_x = np.array([energy(i) for i in x]) / fermi_energy\n",
    "kinetic_x = np.array([0.5 * i**2 for i in x]) / fermi_energy\n",
    "exch_x = np.array([exch(i) for i in x]) / fermi_energy\n",
    "x = x / run.kf  #rescale for plot\n",
    "axes[1,0].plot(x, energy_x, 'k-' , label='total energy')\n",
    "axes[1,0].plot(x, kinetic_x, 'k:', label='kinetic energy')\n",
    "axes[1,0].plot(x, exch_x, 'k--', label='exhange energy')\n",
    "axes[1,0].set_title('2D, rs = 1')\n",
    "axes[1,0].set_xlabel(r'$\\frac{k}{k_f}$')\n",
    "axes[1,0].set_ylabel(r'$\\frac{\\epsilon_k^{HF}}{\\epsilon_F}$')\n",
    "axes[1,0].set_xlim(0,2)\n",
    "axes[1,0].set_ylim(-2.5,3)\n",
    "\n",
    "#3D Figure\n",
    "image = mpimg.imread(\"HF_singleparticleenergy_3D_Guiliani2005_fig2.1.png\")\n",
    "axes[0,1].axis('off')\n",
    "axes[0,1].imshow(image)\n",
    "#2D Figure\n",
    "image = mpimg.imread(\"HF_singleparticleenergy_2D_Guiliani2005_fig2.2.png\")\n",
    "axes[1,1].axis('off')\n",
    "axes[1,1].imshow(image)\n",
    "\n",
    "plt.show()"
   ]
  },
  {
   "cell_type": "code",
   "execution_count": null,
   "metadata": {
    "collapsed": false
   },
   "outputs": [],
   "source": []
  },
  {
   "cell_type": "code",
   "execution_count": null,
   "metadata": {
    "collapsed": false
   },
   "outputs": [],
   "source": []
  },
  {
   "cell_type": "code",
   "execution_count": null,
   "metadata": {
    "collapsed": true
   },
   "outputs": [],
   "source": []
  }
 ],
 "metadata": {
  "kernelspec": {
   "display_name": "Python 2",
   "language": "python",
   "name": "python2"
  },
  "language_info": {
   "codemirror_mode": {
    "name": "ipython",
    "version": 2
   },
   "file_extension": ".py",
   "mimetype": "text/x-python",
   "name": "python",
   "nbconvert_exporter": "python",
   "pygments_lexer": "ipython2",
   "version": "2.7.6"
  }
 },
 "nbformat": 4,
 "nbformat_minor": 0
}

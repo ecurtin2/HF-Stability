{
 "cells": [
  {
   "cell_type": "code",
   "execution_count": 1,
   "metadata": {
    "collapsed": false
   },
   "outputs": [],
   "source": [
    "#!usr/bin/python\n",
    "import numpy as np\n",
    "from lib import ClassWrap\n",
    "import matplotlib.pyplot as plt\n",
    "\n",
    "#Each run is an instance of PyHEG\n",
    "run = ClassWrap.PyHEG(rs=3.0, ndim=2, Nk=40)"
   ]
  },
  {
   "cell_type": "markdown",
   "metadata": {},
   "source": [
    "## Reproducing figures 2.1 and 2.2 from pages 82, 83 of Guiliani & Vignale, Quantum Theory of the Electron Liquid (2005)\n"
   ]
  },
  {
   "cell_type": "code",
   "execution_count": 31,
   "metadata": {
    "collapsed": false,
    "scrolled": false
   },
   "outputs": [
    {
     "data": {
      "image/png": "[encoded data removed]",
      "text/plain": [
       "<matplotlib.figure.Figure at 0x7f919e7bdb50>"
      ]
     },
     "metadata": {},
     "output_type": "display_data"
    }
   ],
   "source": [
    "%matplotlib inline\n",
    "import matplotlib.image as mpimg\n",
    "from matplotlib.ticker import AutoMinorLocator\n",
    "import seaborn as sns\n",
    "fig, axes = plt.subplots(1,2,figsize=(8,4))\n",
    "def row_norm(ary):\n",
    "    return np.sqrt((ary*ary).sum(axis=1))\n",
    "scale = 1.2\n",
    "\n",
    "#3D plot\n",
    "run.ndim = 3\n",
    "run.rs = 4.0\n",
    "run.get_resulting_params()\n",
    "xmax = 2.0 * run.kf\n",
    "x = np.linspace(0, xmax, 500)\n",
    "energy_x = np.array([run.analytic_energy(i) for i in x]) / run.fermi_energy\n",
    "kinetic_x = np.array([0.5 * i**2 for i in x]) / run.fermi_energy\n",
    "exch_x = np.array([run.analytic_exch(i) for i in x]) / run.fermi_energy\n",
    "x = x / run.kf  #rescale for plot\n",
    "axes[0].plot(x, energy_x, 'k-' , label='total energy')\n",
    "axes[0].plot(x, kinetic_x, 'k:', label='kinetic energy')\n",
    "axes[0].plot(x, exch_x, 'k--', label='exchange energy')\n",
    "axes[0].set_title(str(run.ndim) + 'D, rs = ' + str(run.rs))\n",
    "axes[0].set_xlabel(r'$\\frac{k}{k_f}$')\n",
    "axes[0].set_ylabel(r'$\\frac{\\epsilon_k^{HF}}{\\epsilon_F}$')\n",
    "axes[0].set_xlim(0, 2)\n",
    "axes[0].set_ylim(scale * np.amin(energy_x), scale * np.amax(energy_x))\n",
    "\n",
    "#add minor ticks\n",
    "minor_locator = AutoMinorLocator(5)\n",
    "axes[0].yaxis.set_minor_locator(minor_locator)\n",
    "plt.grid(which='minor')\n",
    "minor_locator = AutoMinorLocator(5)\n",
    "axes[0].xaxis.set_minor_locator(minor_locator)\n",
    "plt.grid(which='minor')\n",
    "\n",
    "#Discretized 3D \n",
    "run.Nk = 30\n",
    "run.get_resulting_params()\n",
    "y = run.occ_energies / run.fermi_energy\n",
    "x = row_norm(run.kgrid[run.occ_states]) / run.kf\n",
    "axes[0].plot(x, y, '.')\n",
    "y = run.vir_energies / run.fermi_energy\n",
    "x = row_norm(run.kgrid[run.vir_states]) / run.kf\n",
    "axes[0].plot(x, y, '.')\n",
    "\n",
    "#2D plot\n",
    "run.ndim = 2\n",
    "run.rs = 10.0\n",
    "run.get_resulting_params()\n",
    "x = np.linspace(0, 2.0 * run.kf, 500)\n",
    "energy_x = np.array([run.analytic_energy(i) for i in x]) / run.fermi_energy\n",
    "kinetic_x = np.array([0.5 * i**2 for i in x]) / run.fermi_energy\n",
    "exch_x = np.array([run.analytic_exch(i) for i in x]) / run.fermi_energy\n",
    "x = x / run.kf  #rescale for plot\n",
    "\n",
    "axes[1].plot(x, energy_x, 'k-' , label='total energy')\n",
    "axes[1].plot(x, kinetic_x, 'k:', label='kinetic energy')\n",
    "axes[1].plot(x, exch_x, 'k--', label='exchange energy')\n",
    "axes[1].set_title(str(run.ndim) + 'D, rs = ' + str(run.rs))\n",
    "axes[1].set_xlabel(r'$\\frac{k}{k_f}$')\n",
    "axes[1].set_ylabel(r'$\\frac{\\epsilon_k^{HF}}{\\epsilon_F}$')\n",
    "axes[1].set_xlim(0,2)\n",
    "axes[1].set_ylim(scale * np.amin(energy_x), scale * np.amax(energy_x))\n",
    "\n",
    "#Discretized 2D \n",
    "run.Nk = 80\n",
    "run.get_resulting_params()\n",
    "y = run.occ_energies / run.fermi_energy\n",
    "x = row_norm(run.kgrid[run.occ_states]) / run.kf\n",
    "axes[1].plot(x, y, '.')\n",
    "y = run.vir_energies / run.fermi_energy\n",
    "x = row_norm(run.kgrid[run.vir_states]) / run.kf\n",
    "axes[1].plot(x, y, '.')\n",
    "\n",
    "#y2 = run.occ_cyth() / run.fermi_energy\n",
    "#axes[1,0].plot(x, y2, 'g.', markersize=2)\n",
    "                                            \n",
    "#add minor ticks\n",
    "minor_locator = AutoMinorLocator(5)\n",
    "axes[1].yaxis.set_minor_locator(minor_locator)\n",
    "plt.grid(which='minor')\n",
    "minor_locator = AutoMinorLocator(5)\n",
    "axes[1].xaxis.set_minor_locator(minor_locator)\n",
    "plt.grid(which='minor')\n",
    "\n",
    "#3D Figure\n",
    "#image = mpimg.imread(\"figures/HF_singleparticleenergy_3D_Guiliani2005_fig2.1_cropped.png\")\n",
    "#ntix = 5\n",
    "#xlabels = np.linspace(0,2,ntix)\n",
    "#xtix = np.linspace(0, image.shape[0], ntix)\n",
    "#ntix = 8\n",
    "#ytix = np.linspace(0, image.shape[1], ntix)\n",
    "#ylabels = np.linspace(-4,3,ntix)\n",
    "#axes[0,1].axis('on')\n",
    "#axes[0,1].imshow(image[::-1,:,:])\n",
    "#axes[0,1].set_xticks(xtix,minor=False)\n",
    "#axes[0,1].set_xticklabels(xlabels)\n",
    "#axes[0,1].set_xlim(0,image.shape[0])\n",
    "#axes[0,1].set_yticks(ytix)\n",
    "#axes[0,1].set_yticklabels(ylabels)\n",
    "#axes[0,1].set_ylim(0,image.shape[1])\n",
    "#axes[0,1].tick_params(top='off', bottom='off', left='off', right='off')\n",
    "#axes[0,1].set_xlabel(r'$\\frac{k}{k_f}$')\n",
    "#axes[0,1].set_ylabel(r'$\\frac{\\epsilon_k^{HF}}{\\epsilon_F}$')\n",
    "#\n",
    "#\n",
    "##2D Figure\n",
    "#image = mpimg.imread(\"figures/HF_singleparticleenergy_2D_Guiliani2005_fig2.2_cropped.png\")\n",
    "#ntix = 5\n",
    "#xlabels = np.linspace(0,2,ntix)\n",
    "#xtix = np.linspace(0, image.shape[0], ntix)\n",
    "#ntix = 12\n",
    "#ytix = np.linspace(0, image.shape[1], ntix)\n",
    "#ylabels = np.linspace(-2.5,3,ntix)\n",
    "#axes[1,1].axis('on')\n",
    "#axes[1,1].imshow(image[::-1,:,:])\n",
    "#axes[1,1].set_xticks(xtix,minor=False)\n",
    "#axes[1,1].set_xticklabels(xlabels)\n",
    "#axes[1,1].set_xlim(0,image.shape[0])\n",
    "#axes[1,1].set_yticks(ytix)\n",
    "#axes[1,1].set_yticklabels(ylabels)\n",
    "#axes[1,1].set_ylim(0,image.shape[1])\n",
    "#axes[1,1].tick_params(top='off', bottom='off', left='off', right='off')\n",
    "#axes[1,1].set_xlabel(r'$\\frac{k}{k_f}$')\n",
    "#axes[1,1].set_ylabel(r'$\\frac{\\epsilon_k^{HF}}{\\epsilon_F}$')\n",
    "\n",
    "plt.tight_layout()\n",
    "plt.show()"
   ]
  },
  {
   "cell_type": "code",
   "execution_count": 3,
   "metadata": {
    "collapsed": false
   },
   "outputs": [
    {
     "data": {
      "image/png": "[encoded data removed]",
      "text/plain": [
       "<matplotlib.figure.Figure at 0x7f91a0e5fe90>"
      ]
     },
     "metadata": {},
     "output_type": "display_data"
    }
   ],
   "source": [
    "fig = plt.figure()\n",
    "plt.hist(run.exc_energies, run.Nexc/30)\n",
    "plt.show()"
   ]
  },
  {
   "cell_type": "code",
   "execution_count": 4,
   "metadata": {
    "collapsed": false,
    "scrolled": false
   },
   "outputs": [],
   "source": [
    "#import pstats, cProfile\n",
    "#run.Nk = 100\n",
    "#cProfile.runctx(\"run.occ_cyth()\", globals(), locals(), \"Profile.prof\")\n",
    "#s = pstats.Stats(\"Profile.prof\")\n",
    "#s.strip_dirs().sort_stats(\"time\").print_stats()"
   ]
  },
  {
   "cell_type": "code",
   "execution_count": 5,
   "metadata": {
    "collapsed": false
   },
   "outputs": [
    {
     "data": {
      "text/plain": [
       "<module 'shutil' from '/home/evan/anaconda2/lib/python2.7/shutil.pyc'>"
      ]
     },
     "execution_count": 5,
     "metadata": {},
     "output_type": "execute_result"
    }
   ],
   "source": [
    "import shutil\n",
    "shutil"
   ]
  },
  {
   "cell_type": "code",
   "execution_count": null,
   "metadata": {
    "collapsed": false
   },
   "outputs": [],
   "source": []
  }
 ],
 "metadata": {
  "kernelspec": {
   "display_name": "Python [Root]",
   "language": "python",
   "name": "Python [Root]"
  },
  "language_info": {
   "codemirror_mode": {
    "name": "ipython",
    "version": 2
   },
   "file_extension": ".py",
   "mimetype": "text/x-python",
   "name": "python",
   "nbconvert_exporter": "python",
   "pygments_lexer": "ipython2",
   "version": "2.7.12"
  }
 },
 "nbformat": 4,
 "nbformat_minor": 0
}

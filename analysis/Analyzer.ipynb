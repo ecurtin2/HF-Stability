{
 "cells": [
  {
   "cell_type": "code",
   "execution_count": 2,
   "metadata": {
    "collapsed": false,
    "scrolled": false
   },
   "outputs": [
    {
     "ename": "SyntaxError",
     "evalue": "Missing parentheses in call to 'print' (HFSAnalyzer.py, line 144)",
     "output_type": "error",
     "traceback": [
      "\u001b[0;36m  File \u001b[0;32m\"/home/evan/git/HF-Stability/analysis/pyfiles/HFSAnalyzer.py\"\u001b[0;36m, line \u001b[0;32m144\u001b[0m\n\u001b[0;31m    print \"Directory is Empty, df is unchanged\"\u001b[0m\n\u001b[0m                                              ^\u001b[0m\n\u001b[0;31mSyntaxError\u001b[0m\u001b[0;31m:\u001b[0m Missing parentheses in call to 'print'\n"
     ]
    }
   ],
   "source": [
    "import pyfiles.HFSAnalyzer as HFSA\n",
    "import matplotlib.pyplot as plt\n",
    "import seaborn as sns\n",
    "import pandas as pd\n",
    "import numpy as np\n",
    "import math\n",
    "import time\n",
    "sns.set_context('talk')\n",
    "sns.set(font_scale=1.5)\n",
    "sns.set_style('white')\n",
    "sns.set_palette('colorblind')\n",
    "%matplotlib inline\n",
    "\n",
    "#df = HFSA.directory_to_df('../archive/logfiles')\n",
    "#df.to_pickle(\"HFSDataFrame.pickle\")\n",
    "\n",
    "df = HFSA.add_Dir_to_pickle_df(\"HFSDataFrame.pickle\", dirname='../HFS/log', moveto='../archive/logfiles')\n",
    "df3D = df[df['ndim'] == 3]\n",
    "df3D = df3D[np.isfinite(df3D['Dav_final_val'])]\n",
    "df2D = df[df['ndim'] == 2]"
   ]
  },
  {
   "cell_type": "code",
   "execution_count": null,
   "metadata": {
    "collapsed": false,
    "scrolled": false
   },
   "outputs": [],
   "source": [
    "'''\n",
    "reload(HFSA)\n",
    "fig = plt.figure(figsize=(7,7))\n",
    "axplot = HFSA.axplot_1stBZ\n",
    "kwargs = {'spec_alpha' : 0.5 , 'scale' : 1.05, 'labels' : True}\n",
    "fig, axes = HFSA.df_ApplyAxplotToRows(df[df['Nk'] == 57], None, axplot, **kwargs)\n",
    "plt.tight_layout()\n",
    "#fig.tight_layout(pad=1.3)\n",
    "plt.savefig('../images/1stBZ.eps', format='eps', transparent=True)\n",
    "plt.show()\n",
    "\n",
    "fig = plt.figure(figsize=(7,7))\n",
    "axplot = HFSA.axplot_exc_hist\n",
    "fig, axes =  HFSA.df_ApplyAxplotToRows(df[df['Nk'] == 57], None, axplot)\n",
    "plt.tight_layout()\n",
    "fig.tight_layout(pad=1.3)\n",
    "plt.locator_params(nbins=5)\n",
    "plt.savefig('../images/exchist.eps', format='eps', transparent=True)\n",
    "plt.show()\n",
    "\n",
    "\n",
    "\n",
    "fig = plt.figure(figsize=(7,7))\n",
    "HFSA.df_ApplyAxplotToRows(df2D[df2D['Nk'] == 57], None, HFSA.axplot_energy_compare)\n",
    "plt.tight_layout()\n",
    "#fig.tight_layout(pad=1.3)\n",
    "#plt.savefig('../images/energycompare.eps', format='eps', transparent=True)\n",
    "plt.show()\n",
    "'''"
   ]
  },
  {
   "cell_type": "code",
   "execution_count": null,
   "metadata": {
    "collapsed": false
   },
   "outputs": [],
   "source": [
    "df2D12 = df2D[np.isclose(df2D['rs'].as_matrix(), 1.2)]\n",
    "df3D12 = df3D[np.isclose(df3D['rs'].as_matrix(), 1.2)]\n",
    "reload(HFSA)\n",
    "\n",
    "fig = plt.figure()\n",
    "HFSA.plot_dav_vs_full(df2D12, fig.gca())\n",
    "plt.title(\"2D rs= 1.2\")\n",
    "fig.tight_layout(pad=1.3)\n",
    "#plt.savefig('../images/dav_vs_exact.eps', format='eps', transparent=True)\n",
    "plt.show()\n",
    "\n",
    "fig = plt.figure()\n",
    "HFSA.plot_dav_vs_full(df3D12, fig.gca())\n",
    "plt.title(\"3D rs= 1.2\")\n",
    "fig.tight_layout(pad=1.3)\n",
    "#plt.savefig('../images/dav_vs_exact.eps', format='eps', transparent=True)\n",
    "plt.show()"
   ]
  },
  {
   "cell_type": "code",
   "execution_count": null,
   "metadata": {
    "collapsed": false
   },
   "outputs": [],
   "source": [
    "fig = plt.figure()\n",
    "HFSA.plot_matrix_scaling(df2D, fig.gca())\n",
    "fig.tight_layout(pad=1.3)\n",
    "#plt.savefig('../images/matscale.eps', format='eps', transparent=True)\n",
    "plt.show()\n",
    "\n",
    "fig = plt.figure()\n",
    "HFSA.plot_matrix_scaling(df3D, fig.gca())\n",
    "fig.tight_layout(pad=1.3)\n",
    "#plt.savefig('../images/matscale.eps', format='eps', transparent=True)\n",
    "plt.show()"
   ]
  },
  {
   "cell_type": "code",
   "execution_count": null,
   "metadata": {
    "collapsed": false
   },
   "outputs": [],
   "source": [
    "fig = plt.figure()\n",
    "HFSA.plot_runtime(df2D, plt.gca())\n",
    "fig.tight_layout(pad=1.8)\n",
    "#plt.savefig('../images/overallruntime.eps', format='eps', transparent=True)\n",
    "plt.show()\n",
    "\n",
    "fig = plt.figure()\n",
    "HFSA.plot_runtime(df3D, plt.gca())\n",
    "fig.tight_layout(pad=1.8)\n",
    "#plt.savefig('../images/overallruntime.eps', format='eps', transparent=True)\n",
    "plt.show()"
   ]
  },
  {
   "cell_type": "code",
   "execution_count": null,
   "metadata": {
    "collapsed": false
   },
   "outputs": [],
   "source": [
    "RHF2D = df2D[df2D['mycase'].as_matrix() == ' cRHF2cUHF']\n",
    "RHF2D12 = RHF2D[np.isclose(RHF2D['rs'].as_matrix(), 1.2)]\n",
    "\n",
    "fig = plt.figure()\n",
    "HFSA.plot_diag_scaling(RHF2D12, plt.gca())\n",
    "#plt.savefig('../images/dav_vs_exact_scaling.eps', format='eps', transparent=True)\n",
    "plt.show()\n",
    "\n",
    "fig = plt.figure()\n",
    "HFSA.plot_diag_scaling(df3D, plt.gca())\n",
    "#plt.savefig('../images/dav_vs_exact_scaling.eps', format='eps', transparent=True)\n",
    "plt.show()"
   ]
  },
  {
   "cell_type": "code",
   "execution_count": null,
   "metadata": {
    "collapsed": false,
    "scrolled": false
   },
   "outputs": [],
   "source": [
    "fig = plt.figure()\n",
    "HFSA.plot_mvproduct_scaling(df2D, plt.gca())\n",
    "fig.tight_layout(pad=1.3)\n",
    "#plt.savefig('../images/mvscaling.eps', format='eps', transparent=True)\n",
    "plt.show()\n",
    "\n",
    "fig = plt.figure()\n",
    "HFSA.plot_mvproduct_scaling(df3D, plt.gca())\n",
    "fig.tight_layout(pad=1.3)\n",
    "#plt.savefig('../images/mvscaling.eps', format='eps', transparent=True)\n",
    "plt.show()"
   ]
  },
  {
   "cell_type": "code",
   "execution_count": null,
   "metadata": {
    "collapsed": false,
    "scrolled": false
   },
   "outputs": [],
   "source": [
    "def only_max_Nk(df):\n",
    "    \"\"\"For each unique rs, find the row of maximum Nk and return the corresponding dataframe.\"\"\"\n",
    "    rsvals = df['rs'].unique()\n",
    "    idx = []\n",
    "    for rs in rsvals:\n",
    "        dfrs = df[np.isclose(df['rs'], rs)]\n",
    "        index = dfrs['Nk'].idxmax()\n",
    "        idx.append(index)\n",
    "\n",
    "    return df.loc[idx]\n",
    "\n",
    "fig = plt.figure(figsize=(6,6))\n",
    "HFSA.plot_stability(only_max_Nk(df2D), plt.gca())\n",
    "plt.ylim(-1,1)\n",
    "#fig.tight_layout(pad=1.3)\n",
    "#plt.savefig('../images/stab_rs.eps', format='eps', transparent=True)\n",
    "plt.show()\n",
    "\n",
    "fig = plt.figure(figsize=(6,6))\n",
    "HFSA.plot_stability(df3D[df3D['Nk']==37], plt.gca())\n",
    "#fig.tight_layout(pad=1.3)\n",
    "#plt.savefig('../images/stab_rs.eps', format='eps', transparent=True)\n",
    "plt.show()"
   ]
  },
  {
   "cell_type": "code",
   "execution_count": null,
   "metadata": {
    "collapsed": false,
    "scrolled": false
   },
   "outputs": [],
   "source": [
    "@jit"
   ]
  },
  {
   "cell_type": "code",
   "execution_count": null,
   "metadata": {
    "collapsed": false
   },
   "outputs": [],
   "source": []
  }
 ],
 "metadata": {
  "kernelspec": {
   "display_name": "Python 3",
   "language": "python",
   "name": "python3"
  },
  "language_info": {
   "codemirror_mode": {
    "name": "ipython",
    "version": 3
   },
   "file_extension": ".py",
   "mimetype": "text/x-python",
   "name": "python",
   "nbconvert_exporter": "python",
   "pygments_lexer": "ipython3",
   "version": "3.6.0"
  }
 },
 "nbformat": 4,
 "nbformat_minor": 0
}

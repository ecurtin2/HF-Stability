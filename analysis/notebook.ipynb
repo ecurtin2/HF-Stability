{
 "cells": [
  {
   "cell_type": "markdown",
   "metadata": {},
   "source": [
    "# Data Analysis Notebook For Hartree-Fock Stability\n",
    "---\n",
    "\n",
    "This notebook and the corresponding python file at pyfiles.HFSAnalyzer contain all data analysis and plotting scripts used in the Hatree-Fock Stability of the Homogeneous Electron Gas (HEG). The Data all comes from the executables in the src directory of the project. The logfiles are all in .json format, allowing for easy parsing, while also being human readable (except some large arrays). "
   ]
  },
  {
   "cell_type": "code",
   "execution_count": 1,
   "metadata": {
    "collapsed": false
   },
   "outputs": [],
   "source": [
    "from imp import reload\n",
    "\n",
    "# My modules\n",
    "import sys\n",
    "sys.path.append('/home/evan/git/QwikPlot/src/')\n",
    "import qwikplot as qp\n",
    "reload(qp)\n",
    "\n",
    "# Python modules\n",
    "import glob\n",
    "import math\n",
    "\n",
    "# 3rd party\n",
    "import matplotlib.pyplot as plt\n",
    "import numpy as np\n",
    "import pandas as pd\n",
    "import seaborn.apionly as sns\n",
    "\n",
    "workdir = '/home/evan/git/HF-Stability/analysis/'\n",
    "datadir = workdir + 'log'\n",
    "\n",
    "save_dir = '/home/evan/git/HF-Stability/doc/images'\n",
    "def savefig(fname,  *args, **kwargs):\n",
    "    fullname = save_dir + '/' + fname\n",
    "    plt.savefig(fullname, *args, **kwargs)\n",
    "\n",
    "def spine(fig=None):\n",
    "    if fig is None:\n",
    "        fig = plt.gcf()\n",
    "    sns.despine(fig, top=False, right=False, left=False, bottom=False)    \n",
    "\n",
    "sns.set(style='white', font_scale=1, rc=\n",
    "        {\n",
    "         'axes.linewidth': 0.5,\n",
    "         'axes.edgecolor':'black',\n",
    "         'text.usetex'   : False,\n",
    "         'axes.spines.left'   : True,  \n",
    "         'axes.spines.bottom' : True,\n",
    "         'axes.spines.top'    : True,\n",
    "         'axes.spines.right'  : True,\n",
    "         'savefig.transparent' : True,\n",
    "         'savefig.format': 'eps'\n",
    "        })\n",
    "#sns.set_context('paper')\n",
    "cp = sns.color_palette('colorblind')\n",
    "cp[1], cp[2] = cp[2], cp[1] # proritize orange over green\n",
    "sns.set_palette(cp)\n",
    "    \n",
    "    \n",
    "%matplotlib inline"
   ]
  },
  {
   "cell_type": "markdown",
   "metadata": {},
   "source": [
    "## Load the Data\n",
    "---\n",
    "\n",
    "The data is parsed and collected in a pandas dataframe"
   ]
  },
  {
   "cell_type": "code",
   "execution_count": 2,
   "metadata": {
    "collapsed": false,
    "scrolled": false
   },
   "outputs": [],
   "source": [
    "dataframes = []\n",
    "for f in glob.glob(datadir + '/*.json'):\n",
    "    dataframes.append(qp.json_to_df(f, replace={'inf': 'NaN', 'nan': 'NaN'}))\n",
    "df = pd.concat(dataframes, ignore_index=True)"
   ]
  },
  {
   "cell_type": "markdown",
   "metadata": {},
   "source": [
    "## Ensure expected typecasts"
   ]
  },
  {
   "cell_type": "code",
   "execution_count": 3,
   "metadata": {
    "collapsed": false
   },
   "outputs": [
    {
     "name": "stdout",
     "output_type": "stream",
     "text": [
      "File                               object\n",
      "NDIM                                int64\n",
      "N_MV_PROD                           int64\n",
      "Nexc                                int64\n",
      "Nk                                  int64\n",
      "Nmat                                int64\n",
      "Nocc                                int64\n",
      "Nvir                                int64\n",
      "build_date                 datetime64[ns]\n",
      "computation_finished       datetime64[ns]\n",
      "computation_started        datetime64[ns]\n",
      "cond_number                       float64\n",
      "dav_blocksize                       int64\n",
      "dav_its                             int64\n",
      "dav_max_subsize                     int64\n",
      "dav_maxits                          int64\n",
      "dav_min_eval                      float64\n",
      "dav_nconv                           int64\n",
      "dav_num_evals                       int64\n",
      "dav_singlet_a_minus_b             float64\n",
      "dav_singlet_a_plus_b              float64\n",
      "dav_time                          float64\n",
      "dav_tol                           float64\n",
      "dav_triplet_a_minus_b             float64\n",
      "dav_triplet_a_plus_b              float64\n",
      "deltaK                            float64\n",
      "ground_state_degeneracy             int64\n",
      "kf                                float64\n",
      "kmax                              float64\n",
      "mv_time                           float64\n",
      "mycase                             object\n",
      "n_procs                           float64\n",
      "num_guess_evecs                     int64\n",
      "rs                                float64\n",
      "total_calculation_time            float64\n",
      "twoE_parameter_1dCase             float64\n",
      "use_delta_1D                        int64\n",
      "vol                               float64\n",
      "dtype: object\n"
     ]
    }
   ],
   "source": [
    "df['Nk'] = df['Nk'].astype(int)\n",
    "df['NDIM'] = df['NDIM'].astype(int)\n",
    "df['mycase'] = df['mycase'].astype(str).str.lstrip().str.rstrip()    \n",
    "df['rs'] = df['rs'].astype(float)\n",
    "df['File'] = df['File'].astype(str)\n",
    "df['total_calculation_time'] = df['total_calculation_time'].astype(float)\n",
    "df['computation_started'] = pd.to_datetime(df['computation_started'])\n",
    "df['computation_finished'] = pd.to_datetime(df['computation_finished'])\n",
    "df['build_date'] = pd.to_datetime(df['build_date'].str.replace('-', ' '))\n",
    "mask = df['File'].str.contains('scaling_test')\n",
    "scaling_test = df[mask]\n",
    "df = df[np.logical_not(mask)]\n",
    "\n",
    "print(df.dtypes)"
   ]
  },
  {
   "cell_type": "markdown",
   "metadata": {},
   "source": [
    "## Clean Data and simple calcs\n"
   ]
  },
  {
   "cell_type": "code",
   "execution_count": 4,
   "metadata": {
    "collapsed": false
   },
   "outputs": [],
   "source": [
    "# Remove data with critical values missing\n",
    "df.dropna(axis='rows', subset=['NDIM', 'rs', 'Nk'], inplace=True)\n",
    "\n",
    "# Of course use_delta_1D must be false for ndim=2, 3\n",
    "df.loc[np.logical_or(df['NDIM'] == 2, df['NDIM'] == 3), 'use_delta_1D'] = False\n",
    "df['use_delta_1D'] = df['use_delta_1D'].astype(bool)\n",
    "\n",
    "df = df.drop_duplicates(subset=['NDIM', 'rs', 'Nk', 'mycase', 'twoE_parameter_1dCase', 'use_delta_1D'])\n",
    "\n",
    "# The matrix was diagonalized by factoring into A + B and A - B for singlet and triplet cases\n",
    "# It seems very likely that the offdiagonal components mean that these have equivalent\n",
    "# eigenvalues, but I was unable to prove this definitively. To be safe, I just did all cases. \n",
    "# Thus the actual instability eigenvalue is the minimum of the eigenvalues of A + B and A - B. \n",
    "df['triplet_instability'] = df[['dav_triplet_a_minus_b', 'dav_triplet_a_plus_b']].min(axis=1)\n",
    "df['singlet_instability'] = df[['dav_singlet_a_minus_b', 'dav_singlet_a_plus_b']].min(axis=1)"
   ]
  },
  {
   "cell_type": "markdown",
   "metadata": {},
   "source": [
    "## Scaling Testing for 2D and 3D case"
   ]
  },
  {
   "cell_type": "code",
   "execution_count": 5,
   "metadata": {
    "collapsed": false,
    "scrolled": false
   },
   "outputs": [
    {
     "data": {
      "image/png": "[encoded data removed]",
      "text/plain": [
       "<matplotlib.figure.Figure at 0x7fe75885bb70>"
      ]
     },
     "metadata": {},
     "output_type": "display_data"
    }
   ],
   "source": [
    "scaling_test['n_per_proc'] = scaling_test['Nmat'] / scaling_test['n_procs']\n",
    "scaling_test['n_cores'] = scaling_test['n_procs'] // 32\n",
    "\n",
    "scaling_test = scaling_test[scaling_test.n_cores != 60]\n",
    "\n",
    "def add_speedup(df):\n",
    "    min_row = df[df['n_cores'] == min(df['n_cores'])]\n",
    "    single_core_time = np.average(min_row['total_calculation_time'] * min_row['n_cores'])\n",
    "    df['Speedup'] = pd.to_numeric(single_core_time) / df['total_calculation_time']\n",
    "    return df\n",
    "    \n",
    "scaling_test = scaling_test.groupby('NDIM').apply(add_speedup)\n",
    "\n",
    "\n",
    "def linefit(x, y, **kwargs):\n",
    "    \"\"\"Wrapper to allow for varied scales in plots\"\"\"\n",
    "    ax = plt.gca()\n",
    "\n",
    "    plt.scatter(x, y, **kwargs)\n",
    "  \n",
    "    coeffs = np.polyfit(x, y, deg=1)\n",
    "    poly = np.poly1d(coeffs)\n",
    "    fitfunc = lambda x: poly(x)\n",
    "    xvals = np.linspace(min(x), max(x), 500)\n",
    "    line = plt.plot(xvals, fitfunc(xvals), label='{:5.2f}x +{:5.2f}'.format(*coeffs))\n",
    "    legend = plt.legend(handles=line, loc=0)\n",
    "    ax.add_artist(legend)\n",
    "    \n",
    "    \n",
    "\n",
    "\n",
    "\n",
    "scaling_test = scaling_test.query('NDIM == 3')\n",
    "grid = sns.FacetGrid(scaling_test, col='NDIM', sharey=False, sharex=False, size=2.5, aspect=1.3)\n",
    "grid = grid.map(linefit, 'n_cores', 'Speedup').set_titles(\"\")\n",
    "grid.set_axis_labels('# of Cores', 'Speedup Relative to 1 Core')\n",
    "#plt.suptitle('Strong Parallel Scaling')\n",
    "plt.subplots_adjust(top=0.9)\n",
    "from matplotlib.ticker import MaxNLocator\n",
    "#...\n",
    "ax = plt.gca()\n",
    "#...\n",
    "\n",
    "ax.xaxis.set_major_locator(MaxNLocator(integer=True))\n",
    "spine()\n",
    "plt.savefig(\"../doc/images/parallel-scaling.eps\", bbox_inches='tight')\n",
    "plt.show()"
   ]
  },
  {
   "cell_type": "markdown",
   "metadata": {},
   "source": [
    "## Analytic Energy Functions"
   ]
  },
  {
   "cell_type": "code",
   "execution_count": 6,
   "metadata": {
    "collapsed": false
   },
   "outputs": [],
   "source": [
    "def f2D(y):\n",
    "    if y <= 1.0:\n",
    "        #scipy and guiliani/vignale define K and E differently, x -> x*x\n",
    "        return sp.ellipe(y*y)\n",
    "    else:\n",
    "        #scipy and guiliani/vignale define K and E differently, x -> x*x\n",
    "        x = 1.0 / y\n",
    "        return y * (sp.ellipe(x*x) - (1.0 - x*x) * sp.ellipk(x*x))\n",
    "\n",
    "def f3D(y):\n",
    "    if y < 10e-10:\n",
    "        return 1.0\n",
    "    return 0.5 + (1 - y*y) / (4*y) * math.log(abs((1+y) / (1-y)))\n",
    "\n",
    "def analytic_exch(k, kf, ndim):\n",
    "    const = -2.0 * kf / math.pi\n",
    "    if ndim == 2:\n",
    "        return const * f2D(k / kf)\n",
    "    elif ndim == 3:\n",
    "        return const * f3D(k / kf)\n",
    "\n",
    "def analytic_energy(k, kf, ndim):\n",
    "    x = np.linalg.norm(k)  #works on k of any dimension\n",
    "    return (x*x / 2.0) + analytic_exch(x, kf, ndim)"
   ]
  },
  {
   "cell_type": "markdown",
   "metadata": {},
   "source": [
    "## Testing Convergence of Stability Curves with # of K-points"
   ]
  },
  {
   "cell_type": "code",
   "execution_count": 7,
   "metadata": {
    "collapsed": false
   },
   "outputs": [
    {
     "data": {
      "text/plain": [
       "'\\ngrid = sns.FacetGrid(df, col=\\'NDIM\\', hue=\\'Nk\\', sharey=False, sharex=False, size=6)\\ngrid = grid.map(plot_stability, \\'rs\\', \\'singlet_instability\\').set_titles(\"{col_name}D\")\\ngrid.set_axis_labels(\\'rs\\', \\'Lowest Eigenvalue\\')\\ngrid.add_legend()\\nplt.suptitle(\\'Singlet Instability Convergence\\')\\nplt.subplots_adjust(top=0.9)\\nplt.savefig(\\'../doc/images/singlet-stability-convergence.pdf\\', format=\\'pdf\\')\\nplt.show()\\n\\n\\ngrid = sns.FacetGrid(df, col=\\'NDIM\\', hue=\\'Nk\\', sharey=False, sharex=False, size=6)\\ngrid = grid.map(plot_stability, \\'rs\\', \\'triplet_instability\\').set_titles(\"{col_name}D\")\\n\\ngrid.set_axis_labels(\\'rs\\', \\'Lowest Eigenvalue\\')\\ngrid.add_legend()\\nplt.suptitle(\\'Triplet Instability Convergence\\')\\nplt.subplots_adjust(top=0.80)\\nplt.savefig(\\'../doc/images/triplet-stability-convergence.pdf\\', format=\\'pdf\\')\\nplt.show()\\n'"
      ]
     },
     "execution_count": 7,
     "metadata": {},
     "output_type": "execute_result"
    }
   ],
   "source": [
    "\n",
    "def plot_stability(x, y, **kwargs):\n",
    "    if len(x) <= 1 or len(y) <= 1:\n",
    "        return None\n",
    "    x0 = np.linspace(-5, max(x) + 10, 500)\n",
    "    ax = plt.gca()\n",
    "    idx = np.argsort(x)\n",
    "\n",
    "    x = np.asarray(x)[idx]\n",
    "    y = np.asarray(y)[idx]\n",
    "    \n",
    "    \n",
    "    # filled bad values with -10^9, plot the rest\n",
    "\n",
    "    idx = np.where(y > (-10**9 + 1))\n",
    "    x = x[idx]\n",
    "    y = y[idx]\n",
    "    sns.set_palette(sns.color_palette('Blues', len(x)))\n",
    "    plt.plot(x, y, '.-',**kwargs)\n",
    "    ax.plot(x0, np.zeros_like(x0), 'k--')\n",
    "\n",
    "    ax.set_xlim(0, 1.1 * max(x))\n",
    "    \n",
    "    miny, maxy = min(y), max(y)\n",
    "    ymag = 1.1 * max(abs(miny), abs(maxy))\n",
    "    ax.set_ylim(-ymag, ymag)\n",
    "    \n",
    "    # For when x has some big variation for some\n",
    "    std = np.std(x)\n",
    "    med_diff = np.abs(np.median(np.diff(x)))\n",
    "    if std / med_diff > 5.0:\n",
    "        ax.set_xscale('log')\n",
    "    \n",
    "    # For when y has some big variation for some\n",
    "    std = np.std(y)\n",
    "    med_diff = np.abs(np.median(np.diff(y)))\n",
    "    if std / med_diff > 10.0:\n",
    "        ax.set_yscale('symlog')\n",
    "\n",
    "'''\n",
    "grid = sns.FacetGrid(df, col='NDIM', hue='Nk', sharey=False, sharex=False, size=6)\n",
    "grid = grid.map(plot_stability, 'rs', 'singlet_instability').set_titles(\"{col_name}D\")\n",
    "grid.set_axis_labels('rs', 'Lowest Eigenvalue')\n",
    "grid.add_legend()\n",
    "plt.suptitle('Singlet Instability Convergence')\n",
    "plt.subplots_adjust(top=0.9)\n",
    "plt.savefig('../doc/images/singlet-stability-convergence.pdf', format='pdf')\n",
    "plt.show()\n",
    "\n",
    "\n",
    "grid = sns.FacetGrid(df, col='NDIM', hue='Nk', sharey=False, sharex=False, size=6)\n",
    "grid = grid.map(plot_stability, 'rs', 'triplet_instability').set_titles(\"{col_name}D\")\n",
    "\n",
    "grid.set_axis_labels('rs', 'Lowest Eigenvalue')\n",
    "grid.add_legend()\n",
    "plt.suptitle('Triplet Instability Convergence')\n",
    "plt.subplots_adjust(top=0.80)\n",
    "plt.savefig('../doc/images/triplet-stability-convergence.pdf', format='pdf')\n",
    "plt.show()\n",
    "'''"
   ]
  },
  {
   "cell_type": "code",
   "execution_count": 8,
   "metadata": {
    "collapsed": false,
    "scrolled": false
   },
   "outputs": [
    {
     "data": {
      "image/png": "[encoded data removed]",
      "text/plain": [
       "<matplotlib.figure.Figure at 0x7fe71b81b0f0>"
      ]
     },
     "metadata": {},
     "output_type": "display_data"
    }
   ],
   "source": [
    "df2 = df.dropna(axis='rows', subset=['triplet_instability'], inplace=False).sort_values('rs')\n",
    "df2 = df.fillna(-10**9)\n",
    "\n",
    "def merge_cols(df, dest_col_name, id_name, colname_to_id):\n",
    "    \"\"\"Merge columns into one column, adding a new column with identifiers.\n",
    "    \n",
    "    This does make intermediate copies. I didn't bother to optimize.\"\"\"\n",
    "    \n",
    "    dfs = {(colname, _id): df.copy() for colname, _id in colname_to_id.items()}\n",
    "    \n",
    "    cols = list(colname_to_id.keys())\n",
    "    for (colname, _id), df in dfs.items():\n",
    "        for name in cols:\n",
    "            if name != colname:\n",
    "                df.drop(name, axis=1, inplace=True)\n",
    "        df[id_name] = _id\n",
    "        df.rename(columns={colname: dest_col_name}, inplace=True)\n",
    "\n",
    "    return pd.concat(dfs, ignore_index=True)\n",
    "\n",
    "merged = merge_cols(df2, dest_col_name='instability', id_name='Instability Type', colname_to_id=\n",
    "           {  'singlet_instability': 'Singlet'\n",
    "            , 'triplet_instability': 'Triplet'\n",
    "           })\n",
    "\n",
    "gb = merged.groupby('NDIM', as_index=True)\n",
    "maxes = gb.apply(lambda x: x[x['Nk'] == x['Nk'].max()])\n",
    "maxes.reset_index(level=0, drop=True, inplace=True)\n",
    "\n",
    "grid = sns.FacetGrid(maxes, col='NDIM', hue='Instability Type', sharey=False, sharex=False, size=3, col_wrap=3)\n",
    "grid = grid.map(plot_stability, 'rs', 'instability').set_titles(\"{col_name}D\")\n",
    "grid.set_axis_labels('$r_s$', 'Lowest Eigenvalue')\n",
    "grid.add_legend(bbox_to_anchor=(0.3, 0.65))\n",
    "#plt.suptitle('Stability of RHF Solutions of the HEG')\n",
    "plt.subplots_adjust(top=0.8)\n",
    "spine()\n",
    "plt.savefig('../doc/images/stability.eps', bbox_inches='tight')\n",
    "plt.show()"
   ]
  },
  {
   "cell_type": "code",
   "execution_count": 9,
   "metadata": {
    "collapsed": false
   },
   "outputs": [
    {
     "data": {
      "image/png": "[encoded data removed]",
      "text/plain": [
       "<matplotlib.figure.Figure at 0x7fe7177f7438>"
      ]
     },
     "metadata": {},
     "output_type": "display_data"
    }
   ],
   "source": [
    "sns.set_palette('colorblind')\n",
    "times = (df.groupby(['NDIM', 'Nk'])\n",
    "           .apply(lambda x: x['total_calculation_time'].sum())\n",
    "           .reset_index(name='total_times')\n",
    "        )\n",
    "g = sns.FacetGrid(times, col='NDIM', sharex=False, sharey=False)\n",
    "g = g.map(plt.scatter, 'Nk', 'total_times')"
   ]
  },
  {
   "cell_type": "code",
   "execution_count": 17,
   "metadata": {
    "collapsed": false,
    "scrolled": false
   },
   "outputs": [
    {
     "data": {
      "image/png": "[encoded data removed]",
      "text/plain": [
       "<matplotlib.figure.Figure at 0x7fe717795208>"
      ]
     },
     "metadata": {},
     "output_type": "display_data"
    },
    {
     "data": {
      "image/png": "[encoded data removed]",
      "text/plain": [
       "<matplotlib.figure.Figure at 0x7fe7176206a0>"
      ]
     },
     "metadata": {},
     "output_type": "display_data"
    }
   ],
   "source": [
    "from scipy.interpolate import interp1d\n",
    "from scipy.optimize import minimize_scalar\n",
    "\n",
    "df['Nkpoints'] = df['Nk'] ** df['NDIM']\n",
    "\n",
    "def crossover(df, x, y, interp1d_args=(), interp1d_kwargs=None, npoints=10**5, cutoff=1e-1):\n",
    "    temp = df.dropna(subset=[x, y])\n",
    "    x, y = temp[x], temp[y]\n",
    "    \n",
    "    if interp1d_kwargs is None:\n",
    "        interp1d_kwargs = {}\n",
    "        \n",
    "    f = interp1d(x, y, *interp1d_args, **interp1d_kwargs)\n",
    "    xtest = np.linspace(min(x), max(x), 100000)\n",
    "    idx = np.argmin(np.abs(f(xtest)))\n",
    "    xval = xtest[idx]\n",
    "    yval = f(xval)\n",
    "    \n",
    "    if (abs(yval) < cutoff) and (xval < (max(x) - 1e-5)): \n",
    "        return xval\n",
    "    else:\n",
    "        return 1e10\n",
    "\n",
    "sns.set_palette('colorblind')\n",
    "\n",
    "temp = (df.groupby(['Nk', 'NDIM', 'Nkpoints'])\n",
    "        .apply(lambda d: crossover(d, 'rs', 'triplet_instability'))\n",
    "        .reset_index()\n",
    "        .rename(columns={0: 'Crossover'})\n",
    "       )\n",
    "\n",
    "def crossover_plot(x, y, *args, **kwargs): \n",
    "    newpoints = [i for i in zip(x, y) if i[1] < 1e9]\n",
    "    try:\n",
    "        xnew, ynew = zip(*newpoints)\n",
    "        plt.plot(xnew, ynew, '.-', *args, **kwargs)\n",
    "    except ValueError:\n",
    "        plt.plot([-10], [-10], '.-', *args, **kwargs)\n",
    "    if max(x) > 6000:\n",
    "        plt.gca().set_xlim(0, 115000)\n",
    "        plt.gca().set_ylim(0, 6)\n",
    "    elif max(x) > 600:\n",
    "        plt.gca().set_xlim(0, 6000)\n",
    "        plt.gca().set_ylim(0, 3)\n",
    "    else:\n",
    "        plt.gca().set_xlim(0, 600)\n",
    "        plt.gca().set_ylim(0, 6)    \n",
    "\n",
    "g = sns.FacetGrid(temp, col='NDIM', sharex=False, sharey=False, )\n",
    "g = (g.map(crossover_plot, 'Nkpoints', 'Crossover', marker='.')\n",
    "      .set_titles(\"{col_name}D\")\n",
    "      .set_axis_labels(\"Number of k-points\", \"Transition r$_s$\")\n",
    "    )\n",
    "spine()\n",
    "savefig('triplet_onset.eps', transparent=True, usetex=True, bbox_inches='tight')\n",
    "#plt.gcf().text(0.53, 0.05, 'Number of k-points', ha='center', fontsize=9)\n",
    "plt.show()\n",
    "\n",
    "\n",
    "temp = (df.groupby(['Nk', 'NDIM', 'Nkpoints'])\n",
    "        .apply(lambda d: crossover(d, 'rs', 'singlet_instability'))\n",
    "        .reset_index()\n",
    "        .rename(columns={0: 'Crossover'})\n",
    "       )\n",
    "\n",
    "\n",
    "\n",
    "g = sns.FacetGrid(temp, col='NDIM', sharex=False, sharey=False, size=3)\n",
    "g = (g.map(crossover_plot, 'Nkpoints', 'Crossover', marker='.')\n",
    "      .set_titles(\"{col_name}D\")\n",
    "      .set_axis_labels(\"Number of k-points\", \"Transition r$_s$\")\n",
    "    )\n",
    "\n",
    "spine()\n",
    "savefig('singlet_onset.eps', transparent=True, usetex=True, bbox_inches='tight')\n",
    "#plt.gcf().text(0.53, 0.05, 'Number of k-points', ha='center', fontsize=9)\n",
    "plt.show()"
   ]
  },
  {
   "cell_type": "code",
   "execution_count": 11,
   "metadata": {
    "collapsed": false,
    "scrolled": false
   },
   "outputs": [
    {
     "data": {
      "text/html": [
       "<div>\n",
       "<table border=\"1\" class=\"dataframe\">\n",
       "  <thead>\n",
       "    <tr style=\"text-align: right;\">\n",
       "      <th></th>\n",
       "      <th>Nk</th>\n",
       "      <th>NDIM</th>\n",
       "      <th>Nkpoints</th>\n",
       "      <th>Crossover</th>\n",
       "    </tr>\n",
       "  </thead>\n",
       "  <tbody>\n",
       "    <tr>\n",
       "      <th>8</th>\n",
       "      <td>34</td>\n",
       "      <td>2</td>\n",
       "      <td>1156</td>\n",
       "      <td>2.363485</td>\n",
       "    </tr>\n",
       "    <tr>\n",
       "      <th>11</th>\n",
       "      <td>44</td>\n",
       "      <td>2</td>\n",
       "      <td>1936</td>\n",
       "      <td>1.875769</td>\n",
       "    </tr>\n",
       "    <tr>\n",
       "      <th>14</th>\n",
       "      <td>54</td>\n",
       "      <td>2</td>\n",
       "      <td>2916</td>\n",
       "      <td>1.748546</td>\n",
       "    </tr>\n",
       "    <tr>\n",
       "      <th>16</th>\n",
       "      <td>64</td>\n",
       "      <td>2</td>\n",
       "      <td>4096</td>\n",
       "      <td>1.529410</td>\n",
       "    </tr>\n",
       "    <tr>\n",
       "      <th>18</th>\n",
       "      <td>77</td>\n",
       "      <td>2</td>\n",
       "      <td>5929</td>\n",
       "      <td>1.538899</td>\n",
       "    </tr>\n",
       "  </tbody>\n",
       "</table>\n",
       "</div>"
      ],
      "text/plain": [
       "    Nk  NDIM  Nkpoints  Crossover\n",
       "8   34     2      1156   2.363485\n",
       "11  44     2      1936   1.875769\n",
       "14  54     2      2916   1.748546\n",
       "16  64     2      4096   1.529410\n",
       "18  77     2      5929   1.538899"
      ]
     },
     "execution_count": 11,
     "metadata": {},
     "output_type": "execute_result"
    }
   ],
   "source": [
    "temp.query('NDIM == 2 & Crossover < 1e10')"
   ]
  },
  {
   "cell_type": "code",
   "execution_count": null,
   "metadata": {
    "collapsed": false,
    "scrolled": false
   },
   "outputs": [],
   "source": []
  },
  {
   "cell_type": "code",
   "execution_count": null,
   "metadata": {
    "collapsed": false
   },
   "outputs": [],
   "source": []
  }
 ],
 "metadata": {
  "kernelspec": {
   "display_name": "Python 3",
   "language": "python",
   "name": "python3"
  },
  "language_info": {
   "codemirror_mode": {
    "name": "ipython",
    "version": 3
   },
   "file_extension": ".py",
   "mimetype": "text/x-python",
   "name": "python",
   "nbconvert_exporter": "python",
   "pygments_lexer": "ipython3",
   "version": "3.6.0"
  }
 },
 "nbformat": 4,
 "nbformat_minor": 0
}

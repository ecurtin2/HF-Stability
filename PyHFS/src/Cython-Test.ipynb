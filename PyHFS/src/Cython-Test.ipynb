{
 "cells": [
  {
   "cell_type": "code",
   "execution_count": 1,
   "metadata": {
    "collapsed": false
   },
   "outputs": [],
   "source": [
    "import argparse\n",
    "import numpy as np\n",
    "import sys\n",
    "import time\n",
    "\n",
    "import parameters\n",
    "from OrbitalHessian import OrbitalHessian\n",
    "\n",
    "import slepc4py\n",
    "from petsc4py import PETSc\n",
    "Pprint = PETSc.Sys.Print\n",
    "\n",
    "slepc4py.init(sys.argv)"
   ]
  },
  {
   "cell_type": "code",
   "execution_count": 2,
   "metadata": {
    "collapsed": true
   },
   "outputs": [],
   "source": [
    "%load_ext cython"
   ]
  },
  {
   "cell_type": "code",
   "execution_count": 3,
   "metadata": {
    "collapsed": true
   },
   "outputs": [],
   "source": [
    "%%cython --compile-args=-std=c++11 --compile-args=-O3\n",
    "#cython: wraparound=False, boundscheck=False, initializedcheck=False, cdivision=True\n",
    "\n",
    "import numpy as np\n",
    "cimport numpy as cnp\n",
    "\n",
    "from libc.math cimport sqrt\n",
    "from libc.math cimport round\n",
    "\n",
    "    \n",
    "cdef double high_bound_c, low_bound_c, shift_c, small_number_c, prefactor_c, k_fermi_c, k_max_c, delta_k_c\n",
    "cdef cnp.int32_t ndim_c, nexc_c, nocc_c, nkpoints_c\n",
    "cdef cnp.double_t[:] exc_energies_c\n",
    "cdef cnp.double_t[:, :] ki_ary_c, ka_ary_c, k_occ_ary_c\n",
    "cdef cnp.int32_t[:, :] indices2vir_c, exc_idx_from_states_c\n",
    "    \n",
    "    \n",
    "cdef void to_first_brillouin_zone(cnp.double_t[:] k):\n",
    "    cdef cnp.int32_t i\n",
    "    for i in range(k.shape[0]):           \n",
    "        if k[i] > high_bound_c:\n",
    "            k[i] -= shift_c\n",
    "        elif k[i] < low_bound_c:\n",
    "            k[i] += shift_c        \n",
    "\n",
    "    \n",
    "cdef double two_eri_2d(cnp.double_t[:] k1, cnp.double_t[:] k3):\n",
    "    cdef double denom = 0.0\n",
    "    for i in range(k1.shape[0]):\n",
    "        denom += (k1[i] - k3[i]) * (k1[i] - k3[i])\n",
    "    denom = sqrt(denom)\n",
    "    if denom < small_number_c:\n",
    "        return 0.0\n",
    "    else:\n",
    "        return prefactor_c / denom\n",
    "\n",
    "    \n",
    "cdef cnp.int32_t b_from_indices(cnp.int32_t[:] indices):\n",
    "    return indices2vir_c[indices[0], indices[1]]\n",
    "    \n",
    "    \n",
    "def setup(cnp.ndarray[cnp.double_t, ndim=2] ki_ary not None\n",
    "                 ,cnp.ndarray[cnp.double_t, ndim=2] ka_ary not None\n",
    "                 ,cnp.ndarray[cnp.double_t, ndim=2] k_occ_ary not None\n",
    "                 ,double k_fermi\n",
    "                 ,double k_max\n",
    "                 ,cnp.ndarray[cnp.double_t, ndim=1] exc_energies not None\n",
    "                 ,double small_number\n",
    "                 ,double prefactor\n",
    "                 ,cnp.ndarray[cnp.int32_t, ndim=2] indices2vir not None\n",
    "                 ,cnp.ndarray[cnp.int32_t, ndim=2] exc_idx_from_states not None\n",
    "                 ,double delta_k\n",
    "                 ,cnp.int32_t nkpoints):\n",
    "    \n",
    "    setup_c(ki_ary, ka_ary, k_occ_ary, k_fermi, k_max, exc_energies, small_number, \n",
    "            prefactor, indices2vir, exc_idx_from_states, delta_k, nkpoints)\n",
    "    \n",
    "\n",
    "    \n",
    "cdef setup_c(cnp.ndarray[cnp.double_t, ndim=2] ki_ary\n",
    "                 ,cnp.ndarray[cnp.double_t, ndim=2] ka_ary\n",
    "                 ,cnp.ndarray[cnp.double_t, ndim=2] k_occ_ary\n",
    "                 ,double k_fermi\n",
    "                 ,double k_max\n",
    "                 ,cnp.ndarray[cnp.double_t, ndim=1] exc_energies\n",
    "                 ,double small_number\n",
    "                 ,double prefactor\n",
    "                 ,cnp.ndarray[cnp.int32_t, ndim=2] indices2vir\n",
    "                 ,cnp.ndarray[cnp.int32_t, ndim=2] exc_idx_from_states\n",
    "                 ,double delta_k\n",
    "                 ,cnp.int32_t nkpoints):\n",
    "    \n",
    "    global k_fermi_c\n",
    "    global k_max_c\n",
    "    global small_number_c\n",
    "    global delta_k_c\n",
    "    global prefactor_c\n",
    "    global high_bound_c\n",
    "    global low_bound_c\n",
    "    global ndim_c\n",
    "    global nexc_c\n",
    "    global nocc_c\n",
    "    global k_occ_ary_c\n",
    "    global ki_ary_c\n",
    "    global ka_ary_c\n",
    "    global exc_energies_c\n",
    "    global indices2vir_c\n",
    "    global exc_idx_from_states_c\n",
    "    global nkpoints_c\n",
    "    global shift_c\n",
    "\n",
    "    k_fermi_c = k_fermi\n",
    "    k_max_c = k_max\n",
    "    shift_c = 2.0 * k_max\n",
    "    delta_k_c = delta_k\n",
    "    small_number_c = small_number\n",
    "    prefactor_c = prefactor\n",
    "    high_bound_c = k_max - small_number\n",
    "    low_bound_c = - k_max - small_number\n",
    "    ndim_c = ki_ary.shape[1]\n",
    "    nexc_c = exc_energies.shape[0]\n",
    "    nocc_c = k_occ_ary.shape[0]\n",
    "    nkpoints_c = nkpoints\n",
    "    \n",
    "    ki_ary_c = ki_ary\n",
    "    ka_ary_c = ka_ary\n",
    "    k_occ_ary_c = k_occ_ary\n",
    "    exc_energies_c = exc_energies\n",
    "    indices2vir_c = indices2vir\n",
    "    exc_idx_from_states_c = exc_idx_from_states\n",
    "    nrows, ncols = exc_idx_from_states.shape[0], exc_idx_from_states.shape[1]\n",
    "    \n",
    "def from_index_c(cnp.int32_t i_row,\n",
    "                       cnp.int32_t offset, \n",
    "                       cnp.ndarray[cnp.int32_t, ndim=1] indices, \n",
    "                       cnp.ndarray[cnp.double_t, ndim=1] vals):\n",
    "\n",
    "    global nkpoints_c\n",
    "    cdef cnp.double_t[:] kb = np.zeros(ndim_c)\n",
    "\n",
    "    cdef double norm\n",
    "    cdef cnp.int32_t i_col = 0 \n",
    "    cdef cnp.int32_t count = 0\n",
    "\n",
    "    cdef cnp.double_t[:] ki = np.zeros(ndim_c)\n",
    "    cdef cnp.double_t[:] ka = np.zeros(ndim_c)\n",
    "    cdef cnp.double_t[:] kj = np.zeros(ndim_c)\n",
    "\n",
    "    cdef cnp.int32_t[:] b_indices = np.zeros(ndim_c, dtype=np.int32)\n",
    "\n",
    "    cdef cnp.int32_t i\n",
    "    cdef cnp.int32_t j\n",
    "    cdef cnp.int32_t occ_index\n",
    "    cdef cnp.int32_t b\n",
    "\n",
    "    # generate momentum conserving pairs\n",
    "    global ka_ary_c\n",
    "    global k_occ_ary_c\n",
    "    global ki_ary_c\n",
    "    global delta_k_c\n",
    "    global exc_idx_from_states_c\n",
    "    global exc_energies_c\n",
    "    \n",
    "    for i in range(ndim_c):\n",
    "        ki[i] = ki_ary_c[i_row, i]\n",
    "        ka[i] = ka_ary_c[i_row, i]\n",
    "    \n",
    "    for occ_idx in range(nocc_c):\n",
    "        for j in range(ndim_c):\n",
    "            kj[j] = k_occ_ary_c[occ_idx, j]\n",
    "            kb[j] = ka[j] + kj[j] - ki[j] \n",
    "            \n",
    "        to_first_brillouin_zone(kb)\n",
    "       \n",
    "        norm = 0.0\n",
    "        for j in range(kb.shape[0]):\n",
    "            norm += kb[j] * kb[j]\n",
    "\n",
    "        norm = sqrt(norm)\n",
    "        \n",
    "        # Only continue if actually virtual\n",
    "        if norm > k_fermi_c:\n",
    "            for k in range(ndim_c):\n",
    "                b_indices[k] = <int>round((kb[k] + k_max_c) / delta_k_c)\n",
    "            b = b_from_indices(b_indices)\n",
    "            #assert(b >= 0, 'One of the values of b is negative, implying that the map from'\n",
    "            #       + ' indices to b was not accessed properly.')\n",
    "\n",
    "            # the column index is the excitation label from j -> b\n",
    "            i_col = exc_idx_from_states_c[occ_idx, b]\n",
    "            # diagonal is the excitation energy\n",
    "            if i_col == i_row:\n",
    "                vals[count] += exc_energies_c[i_row]\n",
    "\n",
    "            vals[count] += - two_eri_2d(ki, kj)\n",
    "            indices[count] = i_col\n",
    "            count += 1\n",
    "    vals.shape[0] = count\n",
    "    indices.shape[0] = count"
   ]
  },
  {
   "cell_type": "code",
   "execution_count": 4,
   "metadata": {
    "collapsed": false,
    "scrolled": false
   },
   "outputs": [],
   "source": [
    "params = parameters.Parameters(n_dimensions=2\n",
    "                              ,n_k_points=15\n",
    "                              ,instability_type='cRHF2cUHF'\n",
    "                              ,safe_eri=False\n",
    "                              )\n",
    "H = OrbitalHessian(params)\n",
    "np.set_printoptions(precision=4, linewidth=200)\n",
    "\n",
    "\n",
    "ki, ka = np.split(params.excitations._momenta, 2, axis=1)\n",
    "\n",
    "def inverse_mapper(ary):\n",
    "    \"\"\"Given array of NxM entries, make a N^M MD array corresponding where MDary[i, j ...] = index of original.\"\"\"\n",
    "    imax = np.max(ary)\n",
    "    M = ary.shape[1]\n",
    "    \n",
    "    if M == 1:\n",
    "        inv_map = - np.ones((imax + 1), dtype=np.int32)\n",
    "        for idx, i in enumerate(ary):\n",
    "                inv_map[i] = idx\n",
    "        return inv_map\n",
    "    \n",
    "    if M == 2:\n",
    "        inv_map = - np.ones((imax + 1, imax + 1), dtype=np.int32)\n",
    "        for idx, (i, j) in enumerate(ary):\n",
    "                inv_map[i, j] = idx\n",
    "        return inv_map\n",
    "    \n",
    "    if M == 3:\n",
    "        inv_map = - np.ones((imax + 1, imax + 1, imax + 1), dtype=np.int32)\n",
    "        for idx, (i, j, k) in enumerate(ary):\n",
    "                inv_map[i, j, k] = idx\n",
    "        return inv_map\n",
    "        \n",
    "vmap = inverse_mapper(params.states.virtual_indices)\n",
    "emap = inverse_mapper(params.excitations.indices)\n",
    "\n",
    "indices = np.zeros(params.excitations.n, dtype=np.int32)\n",
    "vals = np.zeros(params.excitations.n, dtype=np.float)\n",
    "\n",
    "setup(ki, ka, params.states.occupied_momenta, \n",
    "                params.k_fermi, params.k_max, \n",
    "                params.excitations.energies, 1e-10, params.eri.prefactor, vmap, emap, \n",
    "      params.k_grid_spacing, params.n_k_points)\n",
    "from_index_c(0, 0, indices, vals)\n",
    "\n",
    "indices = np.zeros(params.excitations.n, dtype=np.int32)\n",
    "vals = np.zeros(params.excitations.n, dtype=np.float)"
   ]
  },
  {
   "cell_type": "code",
   "execution_count": 5,
   "metadata": {
    "collapsed": false,
    "scrolled": false
   },
   "outputs": [],
   "source": [
    "%%cython --compile-args=-std=c++11 --compile-args=-O3\n"
   ]
  },
  {
   "cell_type": "code",
   "execution_count": 6,
   "metadata": {
    "collapsed": false
   },
   "outputs": [],
   "source": [
    "def cython_loop():  \n",
    "    from_index_c(0, 0, indices, vals)\n",
    "    for i, v in zip(indices, vals):\n",
    "        print(i, v)\n",
    "    \n",
    "def python_loop():\n",
    "    for i in H.A.row_generator(0, 0):\n",
    "        pass\n",
    "\n",
    "def cython_class_loop():\n",
    "    r = CppRowGen(params, 1.0e-10)\n",
    "    r.generate(0)\n",
    "    for i, v in zip(r.indices, r.values):\n",
    "        print(i, v)"
   ]
  },
  {
   "cell_type": "code",
   "execution_count": 7,
   "metadata": {
    "collapsed": false,
    "scrolled": false
   },
   "outputs": [
    {
     "name": "stdout",
     "output_type": "stream",
     "text": [
      "100000 loops, best of 3: 10.5 µs per loop\n"
     ]
    }
   ],
   "source": [
    "%timeit from_index_c(0, 0, indices, vals)"
   ]
  },
  {
   "cell_type": "code",
   "execution_count": 8,
   "metadata": {
    "collapsed": false
   },
   "outputs": [],
   "source": [
    "r = CppRowGen(params, 1.0e-10) "
   ]
  },
  {
   "cell_type": "code",
   "execution_count": 9,
   "metadata": {
    "collapsed": false
   },
   "outputs": [
    {
     "name": "stdout",
     "output_type": "stream",
     "text": [
      "100000 loops, best of 3: 16.5 µs per loop\n"
     ]
    }
   ],
   "source": [
    "%timeit r.generate(0)"
   ]
  },
  {
   "cell_type": "code",
   "execution_count": 10,
   "metadata": {
    "collapsed": false
   },
   "outputs": [
    {
     "name": "stdout",
     "output_type": "stream",
     "text": [
      "1000 loops, best of 3: 837 µs per loop\n"
     ]
    }
   ],
   "source": [
    "%timeit python_loop()"
   ]
  },
  {
   "cell_type": "code",
   "execution_count": 11,
   "metadata": {
    "collapsed": false
   },
   "outputs": [],
   "source": [
    "def rowgen(i, offset=0):\n",
    "    r.generate(i, offset)\n",
    "    return zip(r.indices, r.values)\n",
    "\n",
    "#H.row_generator = rowgen"
   ]
  },
  {
   "cell_type": "code",
   "execution_count": null,
   "metadata": {
    "collapsed": false
   },
   "outputs": [],
   "source": []
  },
  {
   "cell_type": "code",
   "execution_count": null,
   "metadata": {
    "collapsed": false
   },
   "outputs": [],
   "source": [
    "\n",
    "import numpy as np\n",
    "import petsc4py\n",
    "from petsc4py import PETSc\n",
    "import slepc_wrapper\n",
    "\n",
    "N = 10\n",
    "indices = np.arange(N, dtype=np.int32)\n",
    "vals = np.ones(N)\n",
    "\n",
    "\n",
    "mat = PETSc.Mat()\n",
    "mat.create(PETSc.COMM_WORLD)\n",
    "mat.setSizes([N, N])\n",
    "mat.setUp()\n",
    "\n",
    "rstart, rend = 0, N\n",
    "for i in range(rstart, rend):\n",
    "    r.generate(i)\n",
    "    mat.setValues(i, r.indices, r.values)\n",
    "\n",
    "mat.assemble()\n",
    "    \n",
    "slepc_wrapper.SlepcEPSWrapper(mat)"
   ]
  },
  {
   "cell_type": "code",
   "execution_count": null,
   "metadata": {
    "collapsed": true
   },
   "outputs": [],
   "source": []
  }
 ],
 "metadata": {
  "kernelspec": {
   "display_name": "Python 3",
   "language": "python",
   "name": "python3"
  },
  "language_info": {
   "codemirror_mode": {
    "name": "ipython",
    "version": 3
   },
   "file_extension": ".py",
   "mimetype": "text/x-python",
   "name": "python",
   "nbconvert_exporter": "python",
   "pygments_lexer": "ipython3",
   "version": "3.6.0"
  }
 },
 "nbformat": 4,
 "nbformat_minor": 2
}

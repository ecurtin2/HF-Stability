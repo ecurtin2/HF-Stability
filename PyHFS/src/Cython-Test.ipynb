{
 "cells": [
  {
   "cell_type": "code",
   "execution_count": 1,
   "metadata": {
    "collapsed": false
   },
   "outputs": [],
   "source": [
    "import argparse\n",
    "import numpy as np\n",
    "import sys\n",
    "import time\n",
    "import pprint\n",
    "import itertools\n",
    "\n",
    "import parameters\n",
    "from OrbitalHessian import OrbitalHessian\n",
    "import CppRowGen"
   ]
  },
  {
   "cell_type": "code",
   "execution_count": 2,
   "metadata": {
    "collapsed": false,
    "scrolled": false
   },
   "outputs": [],
   "source": [
    "def compare(params):\n",
    "    if params.n_dimensions == 2:\n",
    "        r = CppRowGen.CppRowGen2D(params, 1.0e-10)\n",
    "    elif params.n_dimensions == 1:\n",
    "        r = CppRowGen.CppRowGen1D(params, 1.0e-10)\n",
    "    elif params.n_dimensions == 3:\n",
    "        r = CppRowGen.CppRowGen3D(params, 1.0e-10)\n",
    "        \n",
    "    H = OrbitalHessian(params)\n",
    "    np.set_printoptions(precision=4, linewidth=200)\n",
    "    if params.instability_type == 'cRHF2cUHF':\n",
    "        print('cRHF2cUHF')\n",
    "        print('A')\n",
    "        r.generate_TripletA(0, offset=0)\n",
    "        cy = dict(zip(r.indices, r.values))\n",
    "        py = dict(H.A.row_generator(0))\n",
    "        d = {key: (cy[key], py[key]) for key in set(itertools.chain(cy.keys(), py.keys()))}\n",
    "        pprint.pprint(d)\n",
    "        print('B')\n",
    "        r.generate_TripletB(0, offset=0)\n",
    "        cy = dict(zip(r.indices, r.values))\n",
    "        py = dict(H.B.row_generator(0))\n",
    "        d = {key: (cy[key], py[key]) for key in set(itertools.chain(cy.keys(), py.keys()))}\n",
    "        pprint.pprint(d)\n",
    "        \n",
    "    if params.instability_type == 'cRHF2cRHF':\n",
    "        print('cRHF2cRHF')\n",
    "        print('A')\n",
    "        r.generate_SingletA(0, offset=0)\n",
    "        cy = dict(zip(r.indices, r.values))\n",
    "        py = dict(H.A.row_generator(0))\n",
    "        d = {key: (cy[key], py[key]) for key in set(itertools.chain(cy.keys(), py.keys()))}\n",
    "        pprint.pprint(d)\n",
    "        print('B')\n",
    "        r.generate_SingletB(0, offset=0)\n",
    "        cy = dict(zip(r.indices, r.values))\n",
    "        py = dict(H.B.row_generator(0))\n",
    "        d = {key: (cy[key], py[key]) for key in set(itertools.chain(cy.keys(), py.keys()))}\n",
    "        pprint.pprint(d)\n",
    "\n",
    "params = parameters.Parameters(n_dimensions=3\n",
    "                              ,n_k_points=7\n",
    "                              ,instability_type='cRHF2cUHF'\n",
    "                              ,safe_eri=False\n",
    "                              )\n",
    "        \n",
    "#compare(params)\n",
    "\n",
    "params = parameters.Parameters(n_dimensions=3\n",
    "                              ,n_k_points=7\n",
    "                              ,instability_type='cRHF2cRHF'\n",
    "                              ,safe_eri=False\n",
    "                              )\n",
    "\n",
    "#compare(params)"
   ]
  },
  {
   "cell_type": "code",
   "execution_count": 3,
   "metadata": {
    "collapsed": false,
    "scrolled": false
   },
   "outputs": [],
   "source": [
    "from petsc4py import PETSc\n",
    "from slepc4py import SLEPc\n",
    "import cProfile\n",
    "\n",
    "params = parameters.Parameters(n_dimensions=2\n",
    "                              ,n_k_points=20\n",
    "                              ,instability_type='cRHF2cRHF'\n",
    "                              ,safe_eri=False\n",
    "                              )\n",
    "\n",
    "def np_fill(params):\n",
    "    H = OrbitalHessian(params)\n",
    "    return H.as_numpy()\n",
    "\n",
    "def petsc_old(params):\n",
    "    H = OrbitalHessian(params)\n",
    "    return H.as_PETSc()\n",
    "\n",
    "def petsc_fill(params):\n",
    "    mat = PETSc.Mat()\n",
    "    mat.create(PETSc.COMM_WORLD)\n",
    "    mat.setSizes([2*params.excitations.n, 2*params.excitations.n])\n",
    "    mat.setUp()\n",
    "    r = CppRowGen.CppRowGen2D(params, 1.0e-10)\n",
    "    for i in range(0, params.excitations.n):\n",
    "        r.generate_TripletA(i)\n",
    "        mat.setValues(i, r.indices, r.values)\n",
    "        r.generate_TripletB(i, offset=params.excitations.n)\n",
    "        mat.setValues(i, r.indices, r.values)\n",
    "        '''\n",
    "        py = {i : v for i, v in H.B.row_generator(i)}\n",
    "        cy = {i : v for i, v in zip(r.indices, r.values)}\n",
    "        keys = set(itertools.chain(py.keys(), cy.keys()))\n",
    "        both = {k: (cy[k], py[k]) for k in keys}\n",
    "        diff = {k: v for k, v in both.items() if abs(v[0] - v[1]) > 1e-6}\n",
    "        print('row {} :'.format(i))\n",
    "        pprint.pprint(diff)\n",
    "        '''\n",
    "\n",
    "    for i in range(params.excitations.n, 2 * params.excitations.n):\n",
    "        r.generate_TripletB(i - params.excitations.n)\n",
    "        mat.setValues(i, r.indices, r.values)\n",
    "        r.generate_TripletA(i - params.excitations.n, offset=params.excitations.n)\n",
    "        mat.setValues(i, r.indices, r.values)\n",
    "\n",
    "    mat.assemble()\n",
    "    return mat\n",
    "\n",
    "\n",
    "np.set_printoptions(precision=4)\n",
    "\n",
    "#petsc = petsc_fill(params).convert('dense')\n",
    "#p = petsc.getDenseArray()\n",
    "#n = np_fill(params)\n",
    "#print(np.all(np.isclose(p, n)))"
   ]
  },
  {
   "cell_type": "code",
   "execution_count": 4,
   "metadata": {
    "collapsed": false
   },
   "outputs": [
    {
     "name": "stdout",
     "output_type": "stream",
     "text": [
      "10 loops, best of 3: 21.4 ms per loop\n"
     ]
    }
   ],
   "source": [
    "%timeit parameters.Parameters(rs=1.2, n_dimensions=2,n_k_points=12,instability_type='cRHF2cUHF',safe_eri=False)"
   ]
  },
  {
   "cell_type": "code",
   "execution_count": 5,
   "metadata": {
    "collapsed": false
   },
   "outputs": [
    {
     "name": "stdout",
     "output_type": "stream",
     "text": [
      "1 loop, best of 3: 1.35 s per loop\n"
     ]
    }
   ],
   "source": [
    "%timeit petsc_fill(params)"
   ]
  },
  {
   "cell_type": "code",
   "execution_count": 6,
   "metadata": {
    "collapsed": false
   },
   "outputs": [
    {
     "name": "stdout",
     "output_type": "stream",
     "text": [
      "175\n"
     ]
    }
   ],
   "source": [
    "import slepc_wrapper\n",
    "params = parameters.Parameters(rs=1.2, n_dimensions=2,n_k_points=12,instability_type='cRHF2cUHF',safe_eri=False)\n",
    "\n",
    "#h = OrbitalHessian(params)\n",
    "#print(h.as_numpy())\n",
    "\n",
    "p = petsc_fill(params)\n",
    "pnp = p.convert('dense')\n",
    "pnp = pnp.getDenseArray()\n",
    "#print(np.linalg.eigvals(pnp))\n",
    "e = slepc_wrapper.SlepcEPSWrapper(p)\n",
    "e.solve()\n",
    "#print(params)\n",
    "#print('\\n', e)\n",
    "print(params.excitations.n)"
   ]
  },
  {
   "cell_type": "code",
   "execution_count": 7,
   "metadata": {
    "collapsed": false
   },
   "outputs": [
    {
     "name": "stdout",
     "output_type": "stream",
     "text": [
      "The slowest run took 5.27 times longer than the fastest. This could mean that an intermediate result is being cached.\n",
      "100000 loops, best of 3: 12.1 µs per loop\n"
     ]
    }
   ],
   "source": [
    "%timeit e.solve()"
   ]
  },
  {
   "cell_type": "code",
   "execution_count": 8,
   "metadata": {
    "collapsed": false
   },
   "outputs": [
    {
     "name": "stdout",
     "output_type": "stream",
     "text": [
      "Number of iterations of the method: 7\n",
      "Solution method: jd\n",
      "Number of requested eigenvalues: 1\n",
      "Stopping condition: tol=1e-08, maxit=99\n",
      "Number of converged eigenpairs 1\n",
      "[(-0.09473050488792646, 2.308811045107682e-09)]\n",
      "\n",
      "--------------------------------------------------------------------------------\n",
      "-                                  Parameters                                  -\n",
      "--------------------------------------------------------------------------------\n",
      "rs : 1.2\n",
      "n_k_points : 12\n",
      "n_dimensions : 2\n",
      "safe_eri : False\n",
      "instability_type : cRHF2cUHF\n",
      "k_fermi : 1.1785113019775793\n",
      "k_max : 2.3570226157402714\n",
      "k_grid : [-2.357  -1.9642 -1.5713 -1.1785 -0.7857 -0.3928  0.      0.3928  0.7857\n",
      "  1.1785  1.5713  1.9642]\n",
      "k_grid_spacing : 0.392837102623\n",
      "n_electrons : 50\n",
      "volume : 226.1946710584651\n",
      "eri : <twoERI.TwoElectronIntegral object at 0x7f9e070ccf98>\n"
     ]
    }
   ],
   "source": [
    "print(e)\n",
    "print(params)"
   ]
  },
  {
   "cell_type": "code",
   "execution_count": 9,
   "metadata": {
    "collapsed": false
   },
   "outputs": [
    {
     "name": "stdout",
     "output_type": "stream",
     "text": [
      "30625\n"
     ]
    }
   ],
   "source": [
    "print(params.excitations.n**2)"
   ]
  },
  {
   "cell_type": "code",
   "execution_count": null,
   "metadata": {
    "collapsed": true
   },
   "outputs": [],
   "source": []
  }
 ],
 "metadata": {
  "kernelspec": {
   "display_name": "Python 3",
   "language": "python",
   "name": "python3"
  },
  "language_info": {
   "codemirror_mode": {
    "name": "ipython",
    "version": 3
   },
   "file_extension": ".py",
   "mimetype": "text/x-python",
   "name": "python",
   "nbconvert_exporter": "python",
   "pygments_lexer": "ipython3",
   "version": "3.6.0"
  }
 },
 "nbformat": 4,
 "nbformat_minor": 2
}

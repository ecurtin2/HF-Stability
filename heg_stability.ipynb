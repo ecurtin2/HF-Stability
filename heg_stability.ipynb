{
 "cells": [
  {
   "cell_type": "code",
   "execution_count": 1,
   "metadata": {
    "collapsed": false
   },
   "outputs": [
    {
     "name": "stdout",
     "output_type": "stream",
     "text": [
      "[[-3.83831659 -3.83831659 -3.83831659]\n",
      " [-3.83831659 -3.83831659 -2.98535734]\n",
      " [-3.83831659 -3.83831659 -2.1323981 ]\n",
      " ..., \n",
      " [ 3.83831659  3.83831659  2.1323981 ]\n",
      " [ 3.83831659  3.83831659  2.98535734]\n",
      " [ 3.83831659  3.83831659  3.83831659]]\n"
     ]
    }
   ],
   "source": [
    "#!usr/bin/python\n",
    "import numpy as np\n",
    "import itertools\n",
    "import HFStability\n",
    "\n",
    "#Each run is an instance of PyHEG\n",
    "run = HFStability.PyHEG()\n",
    "\n",
    "#input params\n",
    "run.rs = 1.\n",
    "run.ndim = 3\n",
    "run.Nk = 10\n",
    "\n",
    "#Determine other parameters\n",
    "if run.ndim == 1:\n",
    "    run.kf = np.pi / (4 *run.rs)\n",
    "elif run.ndim == 2:\n",
    "    run.kf = 2**0.5 /run.rs\n",
    "elif run.ndim == 3:\n",
    "    run.kf = (9 * np.pi / 4)**(1./3.) * (1 / run.rs) \n",
    "\n",
    "kmax = 2.0 * run.kf\n",
    "kgrid = np.linspace(-kmax, kmax, run.Nk)\n",
    "run.bzone_length = np.pi / kmax\n",
    "run.vol = run.bzone_length**(run.ndim)\n",
    "\n",
    "temp = range(run.Nk)\n",
    "states = temp\n",
    "for i in range(run.ndim - 1):\n",
    "    states = itertools.product(states,temp)\n",
    "states = list(states)\n",
    "\n",
    "#unpack into list of tuples\n",
    "if run.ndim == 3:\n",
    "    states = [(item[0][0], item [0][1], item[1]) for item in states]\n",
    "\n",
    "if run.ndim == 1:\n",
    "    states = [[kgrid[state]] for state in states]\n",
    "else:\n",
    "    states = [[kgrid[i] for i in state] for state in states]\n",
    "\n",
    "occ_states = []\n",
    "vir_states = []\n",
    "for index, state in enumerate(states):\n",
    "    k = np.linalg.norm(state)\n",
    "    if k < run.kf + 10e-4:\n",
    "        occ_states.append(index)\n",
    "    else:\n",
    "        vir_states.append(index)\n",
    "\n",
    "run.Nocc = len(occ_states)\n",
    "run.Nvir = len(vir_states)\n",
    "run.states = np.asarray(states)\n",
    "\n",
    "#RHF ONLY\n",
    "run.N_elec = 2*run.Nocc\n",
    "print run.states"
   ]
  },
  {
   "cell_type": "code",
   "execution_count": 7,
   "metadata": {
    "collapsed": false
   },
   "outputs": [
    {
     "ename": "TypeError",
     "evalue": "rand() got an unexpected keyword argument 'dtype'",
     "output_type": "error",
     "traceback": [
      "\u001b[1;31m---------------------------------------------------------------------------\u001b[0m",
      "\u001b[1;31mTypeError\u001b[0m                                 Traceback (most recent call last)",
      "\u001b[1;32m<ipython-input-7-115026a73d01>\u001b[0m in \u001b[0;36m<module>\u001b[1;34m()\u001b[0m\n\u001b[1;32m----> 1\u001b[1;33m \u001b[0mexcitations\u001b[0m \u001b[1;33m=\u001b[0m \u001b[0mnp\u001b[0m\u001b[1;33m.\u001b[0m\u001b[0mrandom\u001b[0m\u001b[1;33m.\u001b[0m\u001b[0mrand\u001b[0m\u001b[1;33m(\u001b[0m\u001b[1;33m(\u001b[0m\u001b[1;36m3\u001b[0m\u001b[1;33m,\u001b[0m\u001b[1;36m5\u001b[0m\u001b[1;33m)\u001b[0m\u001b[1;33m,\u001b[0m \u001b[0mdtype\u001b[0m\u001b[1;33m=\u001b[0m\u001b[0mnp\u001b[0m\u001b[1;33m.\u001b[0m\u001b[0muint32\u001b[0m\u001b[1;33m)\u001b[0m\u001b[1;33m\u001b[0m\u001b[0m\n\u001b[0m\u001b[0;32m      2\u001b[0m \u001b[1;32mfor\u001b[0m \u001b[0mi\u001b[0m \u001b[1;32min\u001b[0m \u001b[0mrange\u001b[0m\u001b[1;33m(\u001b[0m\u001b[1;36m3\u001b[0m\u001b[1;33m)\u001b[0m\u001b[1;33m:\u001b[0m\u001b[1;33m\u001b[0m\u001b[0m\n\u001b[0;32m      3\u001b[0m     \u001b[1;32mfor\u001b[0m \u001b[0mj\u001b[0m \u001b[1;32min\u001b[0m \u001b[0mrange\u001b[0m\u001b[1;33m(\u001b[0m\u001b[1;36m5\u001b[0m\u001b[1;33m)\u001b[0m\u001b[1;33m:\u001b[0m\u001b[1;33m\u001b[0m\u001b[0m\n\u001b[0;32m      4\u001b[0m         \u001b[0mexcitations\u001b[0m\u001b[1;33m[\u001b[0m\u001b[0mi\u001b[0m\u001b[1;33m,\u001b[0m\u001b[0mj\u001b[0m\u001b[1;33m]\u001b[0m \u001b[1;33m=\u001b[0m \u001b[1;36m10\u001b[0m\u001b[1;33m*\u001b[0m\u001b[0mi\u001b[0m \u001b[1;33m+\u001b[0m \u001b[0mj\u001b[0m\u001b[1;33m\u001b[0m\u001b[0m\n\u001b[0;32m      5\u001b[0m \u001b[1;33m\u001b[0m\u001b[0m\n",
      "\u001b[1;31mTypeError\u001b[0m: rand() got an unexpected keyword argument 'dtype'"
     ]
    }
   ],
   "source": [
    "excitations = np.random.rand((3,5), dtype=np.uint32)\n",
    "for i in range(3):\n",
    "    for j in range(5):\n",
    "        excitations[i,j] = 10*i + j\n",
    "\n",
    "\n",
    "print excitations\n",
    "run.excitations = excitations\n",
    "print run.excitations"
   ]
  },
  {
   "cell_type": "code",
   "execution_count": null,
   "metadata": {
    "collapsed": false
   },
   "outputs": [],
   "source": []
  },
  {
   "cell_type": "code",
   "execution_count": null,
   "metadata": {
    "collapsed": false
   },
   "outputs": [],
   "source": []
  },
  {
   "cell_type": "raw",
   "metadata": {},
   "source": []
  },
  {
   "cell_type": "code",
   "execution_count": null,
   "metadata": {
    "collapsed": true
   },
   "outputs": [],
   "source": []
  }
 ],
 "metadata": {
  "kernelspec": {
   "display_name": "Python 2",
   "language": "python",
   "name": "python2"
  },
  "language_info": {
   "codemirror_mode": {
    "name": "ipython",
    "version": 2
   },
   "file_extension": ".py",
   "mimetype": "text/x-python",
   "name": "python",
   "nbconvert_exporter": "python",
   "pygments_lexer": "ipython2",
   "version": "2.7.6"
  }
 },
 "nbformat": 4,
 "nbformat_minor": 0
}

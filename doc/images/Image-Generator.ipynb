{
 "cells": [
  {
   "cell_type": "code",
   "execution_count": 15,
   "metadata": {
    "collapsed": false,
    "scrolled": false
   },
   "outputs": [],
   "source": [
    "import os\n",
    "import numpy as np\n",
    "from scipy import interpolate\n",
    "import matplotlib as mpl\n",
    "import matplotlib.pyplot as plt\n",
    "from matplotlib import rcParams as rc\n",
    "from matplotlib import cm\n",
    "from mpl_toolkits.mplot3d import Axes3D\n",
    "from matplotlib.ticker import LinearLocator, FormatStrFormatter\n",
    "from matplotlib.colors import LinearSegmentedColormap\n",
    "%matplotlib inline"
   ]
  },
  {
   "cell_type": "code",
   "execution_count": 16,
   "metadata": {
    "collapsed": false
   },
   "outputs": [],
   "source": [
    "rc['font.size'] = 15\n",
    "rc['figure.figsize'] = (8,8)\n",
    "rc['savefig.format'] = 'pdf'\n",
    "rc['savefig.transparent'] = True\n",
    "rc['savefig.bbox'] = 'tight'\n",
    "rc['savefig.directory'] = os.chdir('.')"
   ]
  },
  {
   "cell_type": "code",
   "execution_count": 17,
   "metadata": {
    "collapsed": false
   },
   "outputs": [],
   "source": [
    "MCols =  {  # Metropolis theme colors in HTML\n",
    "    'dBrown' : '604c38', \n",
    "    'dTeal'  : '23373b', \n",
    "    'lBrown' : 'EB811B',\n",
    "    'alert'  : 'EB811B',\n",
    "    'example': '14B03D'\n",
    "}\n",
    "htmlcols = [MCols['dTeal'], MCols['alert'],  MCols['example'], MCols['dBrown'], MCols['lBrown']]\n",
    "rc['axes.prop_cycle'] = mpl.cycler('color', htmlcols)"
   ]
  },
  {
   "cell_type": "code",
   "execution_count": 18,
   "metadata": {
    "collapsed": false,
    "scrolled": false
   },
   "outputs": [
    {
     "data": {
      "image/png": "[encoded data removed]",
      "text/plain": [
       "<matplotlib.figure.Figure at 0x7fe1cd722da0>"
      ]
     },
     "metadata": {},
     "output_type": "display_data"
    }
   ],
   "source": [
    "x = np.linspace(-4.4,4.4,500)\n",
    "def fx(x):\n",
    "    a = 3\n",
    "    return 0.01 * x**3  + np.exp(-(x-a)**2) - np.exp(-(x+a)**2)\n",
    "y = fx(x)\n",
    "fig = plt.figure()\n",
    "pointx = []\n",
    "pointx.append(x[np.argmax(y)])\n",
    "pointx.append(x[np.argmin(y)])\n",
    "pointx.append(0.0)\n",
    "pointy = [fx(i) for i in pointx]\n",
    "plt.plot(x,y, zorder=1)\n",
    "plt.scatter(pointx, pointy, c='#'+MCols['alert'], zorder=2)\n",
    "plt.axis('off')\n",
    "\n",
    "plt.xticks([])\n",
    "plt.yticks([])\n",
    "plt.xlim((-5,5))\n",
    "plt.ylim((-2,2))\n",
    "plt.savefig('1d_extrema.pdf')\n",
    "plt.legend('a curve')\n",
    "plt.show()"
   ]
  },
  {
   "cell_type": "code",
   "execution_count": 22,
   "metadata": {
    "collapsed": false,
    "scrolled": false
   },
   "outputs": [
    {
     "data": {
      "image/png": "[encoded data removed]",
      "text/plain": [
       "<matplotlib.figure.Figure at 0x7fe1a1539c88>"
      ]
     },
     "metadata": {},
     "output_type": "display_data"
    }
   ],
   "source": [
    "def HTMLColorToRGB(colorstring):\n",
    "    \"\"\" convert #RRGGBB to an (R, G, B) tuple \"\"\"\n",
    "    colorstring = colorstring.strip()\n",
    "    if colorstring[0] == '#': colorstring = colorstring[1:]\n",
    "    if len(colorstring) != 6:\n",
    "        raise ValueError(\"input #%s is not in #RRGGBB format\" % colorstring)\n",
    "    r, g, b = colorstring[:2], colorstring[2:4], colorstring[4:]\n",
    "    r, g, b = [int(n, 16) for n in (r, g, b)]\n",
    "    return (r, g, b)\n",
    "\n",
    "def linear_cmap(rgb, rgbmax=(255, 255, 255), rgbmin=(0, 0, 0), N=100, cutoff=127):\n",
    "    \n",
    "    if (sum(rgb) / 3.0) < cutoff:\n",
    "        r = np.linspace(rgb[0], rgbmax[0], N)\n",
    "        g = np.linspace(rgb[1], rgbmax[1], N)\n",
    "        b = np.linspace(rgb[2], rgbmax[2], N)        \n",
    "    else:\n",
    "        r = np.linspace(rgbmin[0], rgb[0],  N)\n",
    "        g = np.linspace(rgbmax[1], rgb[1], N)\n",
    "        b = np.linspace(rgbmax[2],rgb[2], N)\n",
    "        \n",
    "    return np.stack((r, g, b), axis=1) / 255.0\n",
    "\n",
    "clist = linear_cmap(HTMLColorToRGB(MCols['dTeal']), rgbmax=(180, 180, 180), N=2)\n",
    "cm = mpl.colors.ListedColormap(clist)\n",
    "\n",
    "\n",
    "fig = plt.figure()\n",
    "ax = fig.gca(projection='3d')\n",
    "\n",
    "# Make data.\n",
    "X, Y = np.mgrid[-1:1:20j, -1:1:20j]\n",
    "R = np.sqrt(X**2 + Y**2)\n",
    "Z = np.sin(R)\n",
    "\n",
    "xnew, ynew = np.mgrid[-1:1:120j, -1:1:120j]\n",
    "tck = interpolate.bisplrep(X, Y, Z, s=0)\n",
    "znew = interpolate.bisplev(xnew[:,0], ynew[0,:], tck)\n",
    "\n",
    "# Plot the surface.\n",
    "#surf = ax.plot_surface(xnew, ynew, znew, cmap=cm,\n",
    "#                       linewidth=0, antialiased=False, )\n",
    "\n",
    "surf = ax.plot_surface(X, Y, Z, cmap=cm,\n",
    "                       linewidth=0, antialiased=False, )\n",
    "\n",
    "plt.axis('off')\n",
    "\n",
    "plt.show()"
   ]
  },
  {
   "cell_type": "code",
   "execution_count": null,
   "metadata": {
    "collapsed": false,
    "scrolled": false
   },
   "outputs": [],
   "source": []
  },
  {
   "cell_type": "code",
   "execution_count": null,
   "metadata": {
    "collapsed": false
   },
   "outputs": [],
   "source": []
  }
 ],
 "metadata": {
  "kernelspec": {
   "display_name": "Python 3",
   "language": "python",
   "name": "python3"
  },
  "language_info": {
   "codemirror_mode": {
    "name": "ipython",
    "version": 3
   },
   "file_extension": ".py",
   "mimetype": "text/x-python",
   "name": "python",
   "nbconvert_exporter": "python",
   "pygments_lexer": "ipython3",
   "version": "3.6.0"
  }
 },
 "nbformat": 4,
 "nbformat_minor": 0
}

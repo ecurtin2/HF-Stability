{
 "cells": [
  {
   "cell_type": "code",
   "execution_count": 15,
   "metadata": {
    "collapsed": false,
    "scrolled": false
   },
   "outputs": [],
   "source": [
    "#%gui qt\n",
    "from mayavi import mlab\n",
    "import numpy as np\n",
    "import matplotlib.pyplot as plt\n",
    "import matplotlib.image as mimage\n",
    "%matplotlib inline\n",
    "import seaborn as sns\n",
    "from scipy.signal import argrelmax, argrelmin"
   ]
  },
  {
   "cell_type": "code",
   "execution_count": 20,
   "metadata": {
    "collapsed": false
   },
   "outputs": [],
   "source": [
    "Nx = 200\n",
    "Ny = 200\n",
    "xmin = -0.3\n",
    "xmax =  1.4\n",
    "ymin = -1.1\n",
    "ymax =  1.2\n",
    "\n",
    "x = np.linspace(xmin, xmax, Nx)\n",
    "y = np.linspace(ymin, ymax, Ny)\n",
    "z = np.empty((Nx,Ny))\n",
    "\n",
    "case = 'globalmin'\n",
    "#globalmin, nonstationary, saddle\n",
    "\n",
    "\n",
    "def f(x, y):\n",
    "    z = y**4 + 0.3*y**3 - 1.5*y**2 - 1.5*x**2 +0.5*x**4\n",
    "    #if x < 0:\n",
    "    #    z+= 5*x**2\n",
    "    return z\n",
    "\n",
    "def find_nearest(array,value):\n",
    "    idx = (np.abs(array-value)).argmin()\n",
    "    return idx, array[idx]\n",
    "            \n",
    "for ix, xval in enumerate(x):\n",
    "    for iy, yval in enumerate(y):\n",
    "        z[ix,iy] =  f(xval, yval)\n",
    "\n",
    "zmin = np.amin(z)\n",
    "zmax = np.amax(z)\n",
    "origin = (0.5*(xmax-xmin), 0.5*(ymax-ymin), 0.5*(zmax-zmin))\n",
    "        \n",
    "if case == 'globalmin':\n",
    "    xidx, yidx = np.where(np.isclose(z, np.amin(z)))[0]\n",
    "    xval = x[xidx]\n",
    "if case == 'saddle':\n",
    "    xval = 0.0\n",
    "if case == 'nonstationary':\n",
    "    xval = 0.7\n",
    "\n",
    "idxx, nearestx = find_nearest(x, xval)\n",
    "idxmax = argrelmax(z[idxx, :])[0]\n",
    "idxmin = argrelmin(z[idxx, :])[0]\n",
    "if len(idxmax) > 0:\n",
    "    if len(idxmin > 0):\n",
    "        for i in idxmax:\n",
    "            idxmin = np.append(idxmin, i)\n",
    "        idxy = idxmin\n",
    "    else:\n",
    "        idxy = idxmax\n",
    "else:\n",
    "    idxy = idxmin\n",
    "ptx = [nearestx for i in idxy]\n",
    "pty = [y[i] for i in idxy]\n",
    "ptz = [f(ptx[i], pty[i])+0.05 for i in range(len(ptx))]\n",
    "        \n",
    "x2= np.ones(Nx) * xval\n",
    "zplane = np.linspace(1.2*np.amin(z), 1.0*np.amax(z), Ny) + 0.2\n",
    "z2 = np.asarray([zplane for i in range(len(x2))])\n",
    "cmap = sns.cubehelix_palette(256, start=0.5, rot=-0.75)\n",
    "cmap = np.asarray([i for i in cmap])\n",
    "lut = np.ones((256, 4), dtype=np.uint8)*255\n",
    "lut[:, :3] = np.round(255*cmap).astype(np.uint8)\n",
    "\n",
    "\n",
    "fig = mlab.figure(size=(1200,1200))\n",
    "s1 = mlab.surf(x, y, z, colormap='spectral')\n",
    "plane_col = sns.color_palette('Set2', 10)\n",
    "s2 = mlab.surf(x2, y, z2.T, color=plane_col[-5], opacity=0.3)\n",
    "points = mlab.points3d(ptx, pty, ptz, resolution=24, scale_factor=0.1, color=plane_col[-5])\n",
    "s1.module_manager.scalar_lut_manager.lut.table = lut\n",
    "mlab.view(azimuth=-45, elevation=50, focalpoint='auto', distance='auto')\n",
    "imgmap = mlab.screenshot(figure=fig, mode='rgba', antialiased=True)\n",
    "mlab.savefig('pes.jpeg')\n",
    "mlab.close(fig)"
   ]
  },
  {
   "cell_type": "code",
   "execution_count": 3,
   "metadata": {
    "collapsed": false
   },
   "outputs": [
    {
     "name": "stdout",
     "output_type": "stream",
     "text": [
      "-1.37903210303\n"
     ]
    }
   ],
   "source": [
    "print z[xidx, yidx]"
   ]
  },
  {
   "cell_type": "code",
   "execution_count": null,
   "metadata": {
    "collapsed": false
   },
   "outputs": [],
   "source": []
  }
 ],
 "metadata": {
  "kernelspec": {
   "display_name": "Python [Root]",
   "language": "python",
   "name": "Python [Root]"
  },
  "language_info": {
   "codemirror_mode": {
    "name": "ipython",
    "version": 2
   },
   "file_extension": ".py",
   "mimetype": "text/x-python",
   "name": "python",
   "nbconvert_exporter": "python",
   "pygments_lexer": "ipython2",
   "version": "2.7.12"
  }
 },
 "nbformat": 4,
 "nbformat_minor": 0
}
